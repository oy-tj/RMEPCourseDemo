{
 "cells": [
  {
   "cell_type": "markdown",
   "metadata": {},
   "source": [
    "### 第一个例子，运行下看看结果"
   ]
  },
  {
   "cell_type": "code",
   "execution_count": 11,
   "metadata": {},
   "outputs": [
    {
     "name": "stdout",
     "output_type": "stream",
     "text": [
      "你的分数（0-10）：6\n",
      "你的等次：及格\n"
     ]
    }
   ],
   "source": [
    "a=int(input('你的分数（0-10）：'))\n",
    "#print(a)\n",
    "if a>=8:\n",
    "    b='优秀'\n",
    "elif a>=6 and a<8:\n",
    "    b='及格'\n",
    "else:\n",
    "    b='不及格'\n",
    "print('你的等次：{}'.format(b))"
   ]
  },
  {
   "cell_type": "markdown",
   "metadata": {},
   "source": [
    "### Print 格式化输出"
   ]
  },
  {
   "cell_type": "code",
   "execution_count": 17,
   "metadata": {},
   "outputs": [
    {
     "name": "stdout",
     "output_type": "stream",
     "text": [
      "小王的分数：7\n",
      "小王的等次：及格\n"
     ]
    }
   ],
   "source": [
    "name='小王'\n",
    "score=7\n",
    "grade='及格'\n",
    "print('%s的分数：%d'%(name,score))\n",
    "print('{}的等次：{}'.format(name,grade))"
   ]
  },
  {
   "cell_type": "markdown",
   "metadata": {},
   "source": [
    "试一试，在一行中同时输出姓名、分数和等次  小王的分数：7，等次：及格"
   ]
  },
  {
   "cell_type": "code",
   "execution_count": 25,
   "metadata": {},
   "outputs": [
    {
     "name": "stdout",
     "output_type": "stream",
     "text": [
      "小王的分数：7，等次：及格\n"
     ]
    }
   ],
   "source": [
    "name='小王'\n",
    "score=7\n",
    "grade='及格'\n",
    "print('''补充程序''')"
   ]
  },
  {
   "cell_type": "markdown",
   "metadata": {},
   "source": [
    "### 列表\n",
    "#### 用列表存放一系列名单和分数"
   ]
  },
  {
   "cell_type": "code",
   "execution_count": 15,
   "metadata": {},
   "outputs": [
    {
     "name": "stdout",
     "output_type": "stream",
     "text": [
      "小孙的等次：优秀\n"
     ]
    }
   ],
   "source": [
    "names=['小王','小李','小刘','小孙']\n",
    "scores=[3,6,4,9]\n",
    "\n",
    "name=names[-1]\n",
    "score=scores[-1]\n",
    "\n",
    "if score>=8:\n",
    "    b='优秀'\n",
    "elif score>=6 and score<8:\n",
    "    b='及格'\n",
    "else:\n",
    "    b='不及格'\n",
    "print('{}的分数等次：{}'.format(name,b))"
   ]
  },
  {
   "cell_type": "markdown",
   "metadata": {},
   "source": [
    "试一试，打印其他某位同学的成绩等次"
   ]
  },
  {
   "cell_type": "markdown",
   "metadata": {},
   "source": [
    "### 使用循环输入分数"
   ]
  },
  {
   "cell_type": "code",
   "execution_count": 19,
   "metadata": {},
   "outputs": [
    {
     "name": "stdout",
     "output_type": "stream",
     "text": [
      "小王的分数（0-10）：5\n",
      "小李的分数（0-10）：8\n",
      "小刘的分数（0-10）：6\n",
      "小孙的分数（0-10）：2\n",
      "[5, 8, 6, 2]\n"
     ]
    }
   ],
   "source": [
    "names=['小王','小李','小刘','小孙']\n",
    "scores=[]\n",
    "for name in names:\n",
    "    inputInfo=name+\"的分数（0-10）：\"\n",
    "    s=int(input(inputInfo))\n",
    "    scores.append(s)\n",
    "print (scores)"
   ]
  },
  {
   "cell_type": "code",
   "execution_count": 20,
   "metadata": {},
   "outputs": [
    {
     "name": "stdout",
     "output_type": "stream",
     "text": [
      "小王的分数（0-10）：3\n",
      "小李的分数（0-10）：6\n",
      "小刘的分数（0-10）：7\n",
      "小孙的分数（0-10）：3\n",
      "[3, 6, 7, 3]\n"
     ]
    }
   ],
   "source": [
    "names=['小王','小李','小刘','小孙']\n",
    "scores=[]\n",
    "for i in range(len(names)):#使用索引\n",
    "    name=names[i]\n",
    "    inputInfo=name+\"的分数（0-10）：\"\n",
    "    s=int(input(inputInfo))\n",
    "    scores.append(s)\n",
    "print (scores)"
   ]
  },
  {
   "cell_type": "markdown",
   "metadata": {},
   "source": [
    "试一试，在输入4人分数后，使用循环语句打印四人的分数\n",
    "\n",
    "小王的分数：5\n",
    "\n",
    "小李的分数：8\n",
    "\n",
    "小刘的分数：6\n",
    "\n",
    "小孙的分数：2\n"
   ]
  },
  {
   "cell_type": "code",
   "execution_count": 26,
   "metadata": {},
   "outputs": [
    {
     "name": "stdout",
     "output_type": "stream",
     "text": [
      "小王的分数（0-10）：4\n",
      "小李的分数（0-10）：6\n",
      "小刘的分数（0-10）：7\n",
      "小孙的分数（0-10）：9\n",
      "小王的成绩：4\n",
      "小李的成绩：6\n",
      "小刘的成绩：7\n",
      "小孙的成绩：9\n"
     ]
    }
   ],
   "source": [
    "names=['小王','小李','小刘','小孙']\n",
    "scores=[]\n",
    "for i in range(len(names)):#使用索引\n",
    "    name=names[i]\n",
    "    inputInfo=name+\"的分数（0-10）：\"\n",
    "    s=int(input(inputInfo))\n",
    "    scores.append(s)\n",
    "for '''补充程序'''"
   ]
  },
  {
   "cell_type": "markdown",
   "metadata": {},
   "source": [
    "### 函数"
   ]
  },
  {
   "cell_type": "code",
   "execution_count": 21,
   "metadata": {},
   "outputs": [
    {
     "name": "stdout",
     "output_type": "stream",
     "text": [
      "小王的分数（0-10）：2\n",
      "小李的分数（0-10）：3\n",
      "小刘的分数（0-10）：4\n",
      "小孙的分数（0-10）：5\n",
      "[2, 3, 4, 5]\n"
     ]
    }
   ],
   "source": [
    "def inputScore(name):\n",
    "    inputInfo=name+\"的分数（0-10）：\"\n",
    "    s=int(input(inputInfo))\n",
    "    return s\n",
    "    \n",
    "names=['小王','小李','小刘','小孙']\n",
    "scores=[]\n",
    "for i in range(len(names)):#使用索引\n",
    "    scores.append(inputScore(names[i]))\n",
    "print (scores)"
   ]
  },
  {
   "cell_type": "markdown",
   "metadata": {},
   "source": [
    "试一试，把将分数转变为等次的程序封装成函数，调用函数，将分数转换为等次"
   ]
  },
  {
   "cell_type": "code",
   "execution_count": 23,
   "metadata": {},
   "outputs": [
    {
     "name": "stdout",
     "output_type": "stream",
     "text": [
      "小王的分数（0-10）：5\n",
      "小李的分数（0-10）：6\n",
      "小刘的分数（0-10）：8\n",
      "小孙的分数（0-10）：2\n",
      "[5, 6, 8, 2]\n",
      "['不及格', '及格', '优秀', '不及格']\n"
     ]
    }
   ],
   "source": [
    "def score2grade(score):\n",
    "    #分数->等次\n",
    "    '''补充程序'''\n",
    "\n",
    "def inputScore(name):\n",
    "    inputInfo=name+\"的分数（0-10）：\"\n",
    "    s=int(input(inputInfo))\n",
    "    return s\n",
    "    \n",
    "names=['小王','小李','小刘','小孙']\n",
    "scores=[]\n",
    "grade=[]\n",
    "for name in names:#使用索引\n",
    "    score=inputScore(name)\n",
    "    scores.append(score)\n",
    "    grade.append(score2grade(score))\n",
    "print (scores)\n",
    "print (grade)"
   ]
  }
 ],
 "metadata": {
  "kernelspec": {
   "display_name": "Python 3",
   "language": "python",
   "name": "python3"
  },
  "language_info": {
   "codemirror_mode": {
    "name": "ipython",
    "version": 3
   },
   "file_extension": ".py",
   "mimetype": "text/x-python",
   "name": "python",
   "nbconvert_exporter": "python",
   "pygments_lexer": "ipython3",
   "version": "3.8.10"
  }
 },
 "nbformat": 4,
 "nbformat_minor": 4
}
