{
 "cells": [
  {
   "cell_type": "markdown",
   "metadata": {},
   "source": [
    "## 一、条件判断\n",
    "### 1.IF\n",
    "- if +表达式后面要加‘：’\n",
    "- 根据缩进判断if层次"
   ]
  },
  {
   "cell_type": "code",
   "execution_count": 1,
   "metadata": {},
   "outputs": [
    {
     "name": "stdout",
     "output_type": "stream",
     "text": [
      "你的分数（0-10）：7\n",
      "你的等次：及格\n"
     ]
    }
   ],
   "source": [
    "a=int(input('你的分数（0-10）：'))\n",
    "#print(a)\n",
    "if a>=8:\n",
    "    b='优秀'\n",
    "elif a>=6 and a<8:\n",
    "    b='及格'\n",
    "else:\n",
    "    b='不及格'\n",
    "print('你的等次：{}'.format(b))"
   ]
  },
  {
   "cell_type": "markdown",
   "metadata": {},
   "source": [
    "### 2.断言assert\n",
    "- assert + 表达式 ,'报错信息'\n",
    "- 断言不成立时，程序出错，并输出指定的报错信息\n",
    "- 常用于调试程序"
   ]
  },
  {
   "cell_type": "code",
   "execution_count": 1,
   "metadata": {},
   "outputs": [
    {
     "ename": "AssertionError",
     "evalue": "她竟然不是18岁",
     "output_type": "error",
     "traceback": [
      "\u001b[0;31m---------------------------------------------------------------------------\u001b[0m",
      "\u001b[0;31mAssertionError\u001b[0m                            Traceback (most recent call last)",
      "\u001b[0;32m<ipython-input-1-19bb9e59caa4>\u001b[0m in \u001b[0;36m<module>\u001b[0;34m\u001b[0m\n\u001b[1;32m      1\u001b[0m \u001b[0mage\u001b[0m\u001b[0;34m=\u001b[0m\u001b[0;36m19\u001b[0m\u001b[0;34m\u001b[0m\u001b[0;34m\u001b[0m\u001b[0m\n\u001b[0;32m----> 2\u001b[0;31m \u001b[0;32massert\u001b[0m \u001b[0mage\u001b[0m \u001b[0;34m==\u001b[0m \u001b[0;36m18\u001b[0m\u001b[0;34m,\u001b[0m\u001b[0;34m'她竟然不是18岁'\u001b[0m\u001b[0;34m\u001b[0m\u001b[0;34m\u001b[0m\u001b[0m\n\u001b[0m",
      "\u001b[0;31mAssertionError\u001b[0m: 她竟然不是18岁"
     ]
    }
   ],
   "source": [
    "age=19\n",
    "assert age == 18,'她竟然不是18岁'"
   ]
  },
  {
   "cell_type": "markdown",
   "metadata": {},
   "source": [
    "## 二、循环\n",
    "### 1.for\n",
    "- break 和 coutinue一样可用\n",
    "- 可以加else，在循环中没有break时，会执行else"
   ]
  },
  {
   "cell_type": "code",
   "execution_count": 19,
   "metadata": {},
   "outputs": [
    {
     "name": "stdout",
     "output_type": "stream",
     "text": [
      "消费  3  元\n",
      "消费  4  元\n",
      "消费  12 元\n",
      "消费  23 元\n",
      "消费  43 元\n",
      "消费 100 元\n"
     ]
    }
   ],
   "source": [
    "#用for循环遍历列表\n",
    "costs=[3,4,12,23,43,100]\n",
    "for cost in costs:\n",
    "    print('消费 {} 元'.format(str(cost).center(3)))"
   ]
  },
  {
   "cell_type": "code",
   "execution_count": 58,
   "metadata": {},
   "outputs": [
    {
     "name": "stdout",
     "output_type": "stream",
     "text": [
      "消费  3  元\n",
      "消费  4  元\n",
      "消费  12 元\n",
      "消费  23 元\n",
      "消费  43 元\n",
      "消费 100 元\n",
      "全部清单\n"
     ]
    }
   ],
   "source": [
    "#使用循环变量i遍历列表，range(x)可以生成一个0开头长度为x的列表\n",
    "for i in range(len(costs)):\n",
    "    print('消费 {} 元'.format(str(costs[i]).center(3)))\n",
    "else:\n",
    "    print('全部清单')"
   ]
  },
  {
   "cell_type": "markdown",
   "metadata": {},
   "source": [
    "### for循环推导式，用一个序列快速生成一个新数列\n",
    "#### 数列推导式\n",
    "- 推导式中可以使用for 和 if"
   ]
  },
  {
   "cell_type": "code",
   "execution_count": 87,
   "metadata": {},
   "outputs": [
    {
     "name": "stdout",
     "output_type": "stream",
     "text": [
      "[0, 1, 2, 3, 4, 5, 6, 7, 8, 9]\n",
      "[0, 20, 40, 60, 80]\n"
     ]
    }
   ],
   "source": [
    "randList=list(range(10))#构建顺序数列\n",
    "print(randList)\n",
    "newList=[num*10 for num in randList if num%2==0] #数列推导式\n",
    "print(newList)"
   ]
  },
  {
   "cell_type": "markdown",
   "metadata": {},
   "source": [
    "#### 字典推导式"
   ]
  },
  {
   "cell_type": "code",
   "execution_count": 86,
   "metadata": {},
   "outputs": [
    {
     "data": {
      "text/plain": [
       "{0: 61, 1: 65, 2: 5, 3: 20, 4: 47, 5: 47, 6: 22, 7: 22, 8: 87, 9: 48}"
      ]
     },
     "execution_count": 86,
     "metadata": {},
     "output_type": "execute_result"
    }
   ],
   "source": [
    "import random\n",
    "keyList=list(range(10))#构建顺序数列\n",
    "valList=[random.randint(1,100) for num in randList]#构造随机数列\n",
    "dict1={keyList[i]:valList[i] for i in range(10)} #字典推导式\n",
    "dict1"
   ]
  },
  {
   "cell_type": "markdown",
   "metadata": {},
   "source": [
    "### 2.while"
   ]
  },
  {
   "cell_type": "code",
   "execution_count": 62,
   "metadata": {},
   "outputs": [
    {
     "name": "stdout",
     "output_type": "stream",
     "text": [
      "[5, 6, 1, 2, 3, 4, 8, 3, 4, 4, 4, 4, 7, 7, 10, 4, 4, 10, 9, 7] 数组长度为： 20\n"
     ]
    }
   ],
   "source": [
    "#用while循环生成随机数列表\n",
    "import random\n",
    "random_numbers=[]\n",
    "while len(random_numbers)<20: #判断列表长度\n",
    "    random_numbers.append(random.randint(1,10))\n",
    "print (random_numbers,'数组长度为：',len(random_numbers))"
   ]
  },
  {
   "cell_type": "code",
   "execution_count": null,
   "metadata": {},
   "outputs": [],
   "source": []
  }
 ],
 "metadata": {
  "kernelspec": {
   "display_name": "Python 3",
   "language": "python",
   "name": "python3"
  },
  "language_info": {
   "codemirror_mode": {
    "name": "ipython",
    "version": 3
   },
   "file_extension": ".py",
   "mimetype": "text/x-python",
   "name": "python",
   "nbconvert_exporter": "python",
   "pygments_lexer": "ipython3",
   "version": "3.8.10"
  }
 },
 "nbformat": 4,
 "nbformat_minor": 2
}
