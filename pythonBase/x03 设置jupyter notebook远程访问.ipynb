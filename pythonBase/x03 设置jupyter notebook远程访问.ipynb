{
 "cells": [
  {
   "cell_type": "markdown",
   "metadata": {},
   "source": [
    "关键词：window、anaconda、jupyter notebook、远程访问\n",
    "\n",
    "如果之前没有做过对jupyter的远程访问设置，而且电脑已经安装anaconda，按以下步骤进行即可：\n",
    "\n",
    "1. 打开当前用户目录下的.jupyter文件，查看是否有jupyter_notebook_config.py文件：\n",
    "\n",
    "如果有，继续第二步；\n",
    "\n",
    "如果没有，调出anaconda的Prompt命令窗口，输入“jupyter notebook --generate-config”命令，即可生成jupyter_notebook_config配置文件。\n",
    "\n",
    "2. 设置访问密码，在Prompt命令窗口输入ipython命令打开Ipython，输入以下命令：\n",
    "\n",
    "In [1]: from notebook.auth import passwd\n",
    "\n",
    "In [2]: passwd()\n",
    "Enter password:\n",
    "Verify password:\n",
    "Out[2]: 'sha1:0de71489d8cb:bd478fe3b2ff300a36c62a97567a573e47a3db19'\n",
    "\n",
    "In [3]: quit()\n",
    "\n",
    "复制Out[2]输出的秘钥，替换第三步中的password。\n",
    "\n",
    "3. 用记事本打开jupyter_notebook_config.py文件，在最后添加如下命令：\n",
    "\n",
    "c.NotebookApp.ip = '*'\n",
    "c.NotebookApp.password = 'sha1:0de71489d8cb:bd478fe3b2ff300a36c62a97567a573e47a3db19'\n",
    "c.NotebookApp.open_browser = False\n",
    "c.NotebookApp.port =8889\n",
    "c.IPKernelApp.pyplot = 'inline'\n",
    "c.NotebookApp.allow_remote_access = True\n",
    "\n",
    "其中ip指定可以访问本机jupyter 的ip地址，*表示任意ip均可访问；\n",
    "\n",
    "password表示之前生成的密码密文；\n",
    "\n",
    "port指定开放的端口号；\n",
    "\n",
    "allow_remote_access必须指定为True，这一条网上多数都未提及，导致远程访问失败；\n",
    "\n",
    "4. 保存后退出即可\n",
    "\n",
    "5. 运行本机的jupyter（建议在Prompt命令窗口用命令打开jupyter notebook），然后就可以在其他机器的浏览器上访问jupyter notebook了，这对于校园网的内网用户特别方便。\n",
    "\n",
    "直接在你的pc浏览器访问http://10.1.62.10:8889\n",
    "\n",
    "其中10.1.62.10是我的主机ip，8889是第三步配置文件中开放的端口号。\n",
    "\n",
    "linux下步骤一样，文件位置稍有不同。\n",
    "————————————————\n",
    "版权声明：本文为CSDN博主「WanG_14」的原创文章，遵循 CC 4.0 BY-SA 版权协议，转载请附上原文出处链接及本声明。\n",
    "原文链接：https://blog.csdn.net/WanG_14/article/details/90266495"
   ]
  },
  {
   "cell_type": "code",
   "execution_count": null,
   "metadata": {},
   "outputs": [],
   "source": []
  }
 ],
 "metadata": {
  "kernelspec": {
   "display_name": "Python 3",
   "language": "python",
   "name": "python3"
  },
  "language_info": {
   "codemirror_mode": {
    "name": "ipython",
    "version": 3
   },
   "file_extension": ".py",
   "mimetype": "text/x-python",
   "name": "python",
   "nbconvert_exporter": "python",
   "pygments_lexer": "ipython3",
   "version": "3.8.10"
  }
 },
 "nbformat": 4,
 "nbformat_minor": 2
}
