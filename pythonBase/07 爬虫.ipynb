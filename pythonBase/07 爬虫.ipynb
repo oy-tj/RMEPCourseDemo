{
 "cells": [
  {
   "cell_type": "markdown",
   "metadata": {},
   "source": [
    "### 相关库\n",
    "- requests: 用来获取页面内容\n",
    "- BeautifulSoup: 用来解析Html"
   ]
  },
  {
   "cell_type": "markdown",
   "metadata": {},
   "source": [
    "#### 安装库"
   ]
  },
  {
   "cell_type": "raw",
   "metadata": {},
   "source": [
    "pip install requests\n",
    "# BeautifulSoup在bs4中\n",
    "pip install bs4"
   ]
  },
  {
   "cell_type": "markdown",
   "metadata": {},
   "source": [
    "#### requests的7个主要方法\n",
    "\n",
    "|方法 |说明 |\n",
    "|:------|:------|\n",
    "| requests.request() | 构造一个请求，支撑一下各方法的基础方法 |\n",
    "| requests.get() | 获取HTML网页的主要方法，对应HTTP的GET |\n",
    "| requests.head() | 获取HTML网页头的信息方法，对应HTTP的HEAD |\n",
    "| requests.post() | 向HTML网页提交POST请求方法，对应HTTP的POST |\n",
    "| requests.put() | 向HTML网页提交PUT请求的方法，对应HTTP的RUT |\n",
    "| requests.patch() | 向HTML网页提交局部修改请求，对应于HTTP的PATCH |\n",
    "| requests.delete() | 向HTML页面提交删除请求,对应HTTP的DELETE |\n",
    "\n",
    "#### response对象的属性\n",
    "|属性|说明|\n",
    "|:------ |:------ |\n",
    "|r.status_code|HTTP请求的返回状态|\n",
    "|r.text|HTTP响应内容的字符串形式，即：url对应的页面内容|\n",
    "|r.encoding|从HTTP header中猜测的响应内容编码方式|\n",
    "|r.apparent_encoding|从内容中分析出的响应内容编码方式（备选编码方式）|\n",
    "|r.content|HTTP响应内容的二进制形式|"
   ]
  },
  {
   "cell_type": "markdown",
   "metadata": {},
   "source": [
    "#### 导入库"
   ]
  },
  {
   "cell_type": "code",
   "execution_count": 34,
   "metadata": {},
   "outputs": [],
   "source": [
    "import requests\n",
    "from bs4 import BeautifulSoup"
   ]
  },
  {
   "cell_type": "markdown",
   "metadata": {},
   "source": [
    "## 例子：爬取bkjw.xmu.edu.cn课表\n",
    "### 登录页面\n",
    "#### 建立Session"
   ]
  },
  {
   "cell_type": "code",
   "execution_count": 35,
   "metadata": {},
   "outputs": [],
   "source": [
    "headers={\n",
    "    'User-Agent':'Mozilla/4.0 (compatible; MSIE 7.0; Windows NT 6.1; WOW64; Trident/7.0; SLCC2; .NET CLR 2.0.50727; .NET CLR 3.5.30729; .NET CLR 3.0.30729; Media Center PC 6.0)'\n",
    "}\n",
    "url1=\"http://bkjw.xmu.edu.cn/epstar/login/index.jsp\"\n",
    "mySeesion=requests.session()"
   ]
  },
  {
   "cell_type": "markdown",
   "metadata": {},
   "source": [
    "#### 通过post登录系统"
   ]
  },
  {
   "cell_type": "code",
   "execution_count": 36,
   "metadata": {},
   "outputs": [
    {
     "data": {
      "text/plain": [
       "True"
      ]
     },
     "execution_count": 36,
     "metadata": {},
     "output_type": "execute_result"
    }
   ],
   "source": [
    "userInfo={\n",
    "    'userName':'metc',\n",
    "    'userPassword':'1'\n",
    "}\n",
    "logOnSuccess=False\n",
    "myRequest=mySeesion.post(url1,data=userInfo)\n",
    "if myRequest.status_code==200:\n",
    "    resStr=myRequest.text\n",
    "    if resStr.find('/epstar/web/swms/mainframe/home/index.jsp')>0:\n",
    "        logOnSuccess=True\n",
    "logOnSuccess"
   ]
  },
  {
   "cell_type": "markdown",
   "metadata": {},
   "source": [
    "### 系统页面\n",
    "#### get页面信息"
   ]
  },
  {
   "cell_type": "code",
   "execution_count": 37,
   "metadata": {},
   "outputs": [
    {
     "data": {
      "text/plain": [
       "<html>\n",
       "<body bottommargin=\"0\" leftmargin=\"0\" rightmargin=\"0\" topmargin=\"0\">\n",
       "<table border=\"0\" cellpadding=\"0\" cellspacing=\"0\" id=\"titleTable\" width=\"100%\"><tr>\n",
       "<td background=\"\" height=\"22\" style=\"font-size:13px\" valign=\"middle\" width=\"100%\">\n",
       "<table width=\"100%\">\n",
       "<tr>\n",
       "<td align=\"center\" style=\"font-size:12px\" valign=\"middle\" width=\"47%\">共<span id=\"t_page_span\"></span>页/第<span id=\"c_page_span\"></span>页  \t\t\t\t\t\n",
       "\t\t\t\t\t\t<a href=\"#\" onclick=\"report1_print();return false;\"><img border=\"no\" src=\"/epstar/images/preview3.gif\" style=\"vertical-align:middle\"/></a>\n",
       "<a href=\"#\" onclick=\"report1_saveAsExcel();return false;\"><img border=\"no\" src=\"/epstar/images/excel.gif\" style=\"vertical-align:middle\"/></a>\n",
       "<a href=\"#\" onclick=\"report1_saveAsPdf();return false;\"><img border=\"no\" src=\"/epstar/images/pdf.gif\" style=\"vertical-align:middle\"/></a>\n",
       "<a href=\"#\" onclick=\"zjdy()\"><img border=\"no\" src=\"/epstar/images/print.gif\" style=\"vertical-align:middle\"/></a>\n",
       "<a href=\"#\" onclick=\"report1_saveAsWord();return false;\"><img border=\"no\" src=\"/epstar/images/word.gif\" style=\"vertical-align:middle\"/></a>\n",
       "<a href=\"#\" onclick=\"try{report1_toPage( 1 );}catch(e){}return false;\"><img border=\"no\" src=\"/epstar/images/firstpage.gif\" style=\"vertical-align:middle\"/></a>\n",
       "<a href=\"#\" onclick=\"try{report1_toPage(report1_getCurrPage()-1);}catch(e){}return false;\"><img border=\"no\" src=\"/epstar/images/prevpage.gif\" style=\"vertical-align:middle\"/></a>\n",
       "<a href=\"#\" onclick=\"try{report1_toPage(report1_getCurrPage()+1);}catch(e){}return false;\"><img border=\"no\" src=\"/epstar/images/nextpage.gif\" style=\"vertical-align:middle\"/></a>\n",
       "<a href=\"#\" onclick=\"try{report1_toPage(report1_getTotalPage());}catch(e){}return false;\"><img border=\"no\" src=\"/epstar/images/lastpage.gif\" style=\"vertical-align:middle\"/></a>\n",
       "</td>\n",
       "</tr>\n",
       "</table>\n",
       "</td>\n",
       "</tr>\n",
       "<tr height=\"6\"><td></td></tr>\n",
       "</table>\n",
       "<script language=\"javascript\" src=\"/epstar/servlet/com.runqian.base.util.ReadJavaScriptServlet?file=%2Fcom%2Frunqian%2Freport%2Fview%2Fhtml%2Fscroll.js\"></script>\n",
       "<div id=\"div1\" onscroll=\"_reportScroll( 'report1' )\" style=\"overflow:auto;vertical-align:top\">\n",
       "<table align=\"center\" id=\"rpt\"><tr><td>\n",
       "<form action=\"http://bkjw.xmu.edu.cn:80/epstar/reportJsp/showReportRun.jsp?1577695439943\" method=\"post\" name=\"report1_turnPageForm\" style=\"display:none\">\n",
       "<input name=\"cond1\" type=\"hidden\" value=\" 1=1 and pk.xnxqdm='20191' and F_PKGL_CHECKRAWSTRINGCONFLIT(pk.zcbh,F_PKGL_GENRAWSTRINGOFJC('3','3'))=1 AND pk.xq='4' AND rm.jxl='83';cond2=1=1 AND rm.jxl='83';xnxqdm=''20191'';zcdm=''3'';week=''4'';jxldm=''83''\"/>\n",
       "<input name=\"wid\" type=\"hidden\" value=\"PKGL_JSZYZYXX\"/>\n",
       "<input name=\"reportParamsId\" type=\"hidden\" value=\"100669\"/>\n",
       "<input name=\"srcId\" type=\"hidden\" value=\"A1892\"/>\n",
       "<input name=\"report1_currPage\" type=\"hidden\" value=\"1\"/>\n",
       "<input name=\"report1_sessionId\" type=\"hidden\" value=\"A1894\"/>\n",
       "<input name=\"report1_cachedId\" type=\"hidden\" value=\"A1893\"/>\n",
       "</form><script language=\"javascript\">\n",
       "\tfunction report1_toPage( pageNo ) {\n",
       "\tif( pageNo < 1 || pageNo > report1_getTotalPage() ) return;\n",
       "\t\tdocument.report1_turnPageForm.report1_currPage.value = pageNo;\n",
       "\t\tdocument.report1_turnPageForm.submit();\n",
       "\t}\n",
       "</script>\n",
       "<script language=\"javascript\">\n",
       "\tfunction report1_getCurrPage() {\n",
       "\t\treturn 1;\n",
       "\t}\n",
       "\tfunction report1_getTotalPage() {\n",
       "\t\treturn 4;\n",
       "\t}\n",
       "</script>\n",
       "<script language=\"javascript\">\n",
       "\tfunction report1_saveAsExcel() {\n",
       "\t\tvar address = \"http://bkjw.xmu.edu.cn:80/epstar/servlet/com.runqian.report.view.excel.ConfigExcelServlet?url=http%3A%2F%2Fbkjw.xmu.edu.cn%3A80%2Fepstar%2Fservlet%2Fcom.runqian.report.view.excel.ExcelReportServlet%3Ffile%3DA1892%26columns%3D0%26srcType%3Ddefinebean%26width%3D0%26height%3D0%26reportParamsId%3D100669%26saveAsName%3Dresult%26cachedId%3DA1893%26t_i_m_e%3D1577695439943\";\n",
       "\t\twindow.open( address + \"&frame=report1_saveAs_frame\", null, \"width=300, height=180, left=250, top=200, status=no resizable=yes\" );\n",
       "\t}\n",
       "</script>\n",
       "<script language=\"javascript\">\n",
       "\tfunction report1_saveAsPdf() {\n",
       "\t\tdocument.getElementById( \"report1_saveAs_frame\" ).src = \"http://bkjw.xmu.edu.cn:80/epstar/servlet/com.runqian.report.view.pdf.PdfReportServlet?file=A1892&columns=0&srcType=definebean&reportParamsId=100669&saveAsName=result&cachedId=A1893&t_i_m_e=1577695439943\";\n",
       "\t}\n",
       "</script>\n",
       "<script language=\"javascript\">\n",
       "\tfunction report1_saveAsWord() {\n",
       "\t\tdocument.getElementById( \"report1_saveAs_frame\" ).src = \"http://bkjw.xmu.edu.cn:80/epstar/servlet/com.runqian.report.view.word.WordReportServlet?file=A1892&columns=0&srcType=definebean&reportParamsId=100669&saveAsName=result&cachedId=A1893&t_i_m_e=1577695439943\";\n",
       "\t}\n",
       "</script>\n",
       "<iframe id=\"report1_saveAs_frame\" name=\"report1_saveAs_frame\" src=\"a.html\" style=\"display:none\"></iframe>\n",
       "<script language=\"javascript\">\n",
       "\tfunction report1_saveAsText() {\n",
       "\t\tdocument.getElementById( \"report1_saveAs_frame\" ).src = \"http://bkjw.xmu.edu.cn:80/epstar/servlet/com.runqian.report.view.text.TextFileServlet?file=A1892&srcType=definebean&separator=%09&reportParamsId=100669&saveAsName=result&cachedId=A1893&t_i_m_e=1577695439943\";\n",
       "\t}\n",
       "</script>\n",
       "<script language=\"javascript\">\n",
       "\tfunction report1_print() {\n",
       "\t\tdocument.getElementById( \"report1_printIFrame\" ).src = \"http://bkjw.xmu.edu.cn:80/epstar/servlet/com.runqian.report.view.DataServlet?name=report1&reportFileName=A1892&canModifyBeforePrint=no&srcType=definebean&action=print&savePrintSetup=no&appletJarName=runqianReportApplet.jar&reportParamsId=100669&cachedId=A1893&t_i_m_e=1577695439943\";\n",
       "\t}\n",
       "</script>\n",
       "<iframe height=\"50\" id=\"report1_printIFrame\" name=\"report1_printIFrame\" src=\"a.html\" style=\"position:absolute;left:-100px;top:-100px\" width=\"50\"></iframe>\n",
       "<script language=\"javascript\">\n",
       "\tvar report1oldstatus = \"\";\n",
       "\tfunction report1417782over(){\n",
       "\t\treport1oldstatus = window.status;\n",
       "\t\twindow.status = \"\";\n",
       "\t}\n",
       "\tfunction report1417782out(){\n",
       "\t\twindow.status = report1oldstatus;\n",
       "\t}\n",
       "</script>\n",
       "<style id=\"report1_style\"></style>\n",
       "<table cellpadding=\"0\" cellspacing=\"0\" id=\"report1\" onmouseout=\"report1417782out()\" style=\"width:536;table-layout:fixed;border-collapse:collapse\">\n",
       "<colgroup>\n",
       "<col style=\"width:81px;\"/>\n",
       "<col style=\"width:91px;\"/>\n",
       "<col style=\"width:91px;\"/>\n",
       "<col style=\"width:91px;\"/>\n",
       "<col style=\"width:91px;\"/>\n",
       "<col style=\"width:91px;\"/>\n",
       "</colgroup>\n",
       "<tr height=\"28\" style=\"height:28px;\">\n",
       "<style> .report1_1_1 { text-align:left;background-color:#FFFFFF;border-bottom-color:#000000;border-bottom-style:none;border-bottom-width:1px;padding-left:0px;border-left-color:#000000;border-left-style:none;border-left-width:1px;border-right-color:#000000;border-right-style:none;border-right-width:1px;font-weight:normal;color:#000000;font-family:宋体;font-style:normal;font-size:12px;text-decoration:none;border-top-color:#000000;border-top-style:none;border-top-width:1px;vertical-align:middle;}</style>\n",
       "<td class=\"report1_1_1\" onmouseover=\"report1417782over()\" style=\"display:none\"></td>\n",
       "<style> .report1_1_2 { text-align:center;background-color:#FFFFFF;border-bottom-color:#000000;border-bottom-style:none;border-bottom-width:1px;padding-left:0px;padding-right:0px;border-left-color:#000000;border-left-style:none;border-left-width:1px;border-right-color:#000000;border-right-style:none;border-right-width:1px;font-weight:bold;color:#000000;font-family:宋体;font-style:normal;font-size:14px;text-decoration:none;border-top-color:#000000;border-top-style:none;border-top-width:1px;vertical-align:middle;line-height:18px;}</style>\n",
       "<td class=\"report1_1_2\" colspan=\"6\" onmouseover=\"report1417782over()\">厦门大学2019-2020学年 第一学期教室资源占用信息</td>\n",
       "</tr>\n",
       "<tr height=\"23\" style=\"height:23px;\">\n",
       "<td class=\"report1_1_1\" onmouseover=\"report1417782over()\" style=\"display:none\"></td>\n",
       "<style> .report1_2_2 { text-align:center;background-color:#FFFFFF;border-bottom-color:#000000;border-bottom-style:none;border-bottom-width:1px;padding-left:0px;padding-right:0px;border-left-color:#000000;border-left-style:none;border-left-width:1px;border-right-color:#000000;border-right-style:none;border-right-width:1px;font-weight:bold;color:#000000;font-family:宋体;font-style:normal;font-size:14px;text-decoration:none;border-top-color:#000000;border-top-style:none;border-top-width:1px;vertical-align:middle;}</style>\n",
       "<td class=\"report1_2_2\" colspan=\"6\">(第3周 星期四 4号楼)</td>\n",
       "</tr>\n",
       "<tr height=\"41\" style=\"height:41px;\">\n",
       "<style> .report1_4_1 { text-align:left;background-color:#FFFFFF;border-bottom-color:#000000;border-bottom-style:none;border-bottom-width:1px;padding-left:0px;border-left-color:#000000;border-left-style:none;border-left-width:1px;border-right-color:#000000;border-right-style:solid;border-right-width:1px;font-weight:normal;color:#000000;font-family:宋体;font-style:normal;font-size:12px;text-decoration:none;border-top-color:#000000;border-top-style:none;border-top-width:1px;vertical-align:middle;}</style>\n",
       "<td class=\"report1_4_1\" style=\"display:none\"></td>\n",
       "<style> .report1_4_2 { text-align:center;background-color:#999999;border-bottom-color:#000000;border-bottom-style:solid;border-bottom-width:1px;padding-left:0px;padding-right:0px;border-left-color:#000000;border-left-style:solid;border-left-width:1px;border-right-color:#000000;border-right-style:solid;border-right-width:1px;font-weight:bold;color:#000000;font-family:宋体;font-style:normal;font-size:11px;text-decoration:none;border-top-color:#000000;border-top-style:solid;border-top-width:1px;vertical-align:middle;line-height:15px;}</style>\n",
       "<td class=\"report1_4_2\"><img border=\"no\" height=\"41\" src=\"http://bkjw.xmu.edu.cn:80/epstar/servlet/com.runqian.report.view.html.GraphServlet?graphId=100956&amp;time=1577695439957\" width=\"81\"/></td>\n",
       "<style> .report1_4_3 { text-align:center;background-color:#999999;border-bottom-color:#000000;border-bottom-style:solid;border-bottom-width:1px;padding-left:0px;padding-right:0px;border-left-color:#000000;border-left-style:solid;border-left-width:1px;border-right-color:#000000;border-right-style:solid;border-right-width:1px;font-weight:bold;color:#000000;font-family:宋体;font-style:normal;font-size:9px;text-decoration:none;border-top-color:#000000;border-top-style:solid;border-top-width:1px;vertical-align:middle;line-height:12px;}</style>\n",
       "<td class=\"report1_4_3\">1-2节</td>\n",
       "<td class=\"report1_4_3\">3-4节</td>\n",
       "<td class=\"report1_4_3\">5-6节</td>\n",
       "<td class=\"report1_4_3\" onmouseover=\"report1417782over()\">7-8节</td>\n",
       "<td class=\"report1_4_3\" onmouseover=\"report1417782over()\">9-11节</td>\n",
       "</tr>\n",
       "<tr height=\"57\" style=\"height:57px;\">\n",
       "<td class=\"report1_4_1\" style=\"display:none\">2075</td>\n",
       "<style> .report1_5_2 { text-align:center;background-color:#FFFFFF;border-bottom-color:#000000;border-bottom-style:solid;border-bottom-width:1px;padding-left:0px;padding-right:0px;border-left-color:#000000;border-left-style:solid;border-left-width:1px;border-right-color:#000000;border-right-style:solid;border-right-width:1px;font-weight:bold;color:#000000;font-family:宋体;font-style:normal;font-size:12px;text-decoration:none;border-top-color:#000000;border-top-style:solid;border-top-width:1px;vertical-align:middle;line-height:16px;}</style>\n",
       "<td class=\"report1_5_2\" onmouseover=\"report1417782over()\">4号楼A105</td>\n",
       "<style> .report1_5_3 { text-align:center;background-color:#FFFFFF;border-bottom-color:#000000;border-bottom-style:solid;border-bottom-width:1px;padding-left:0px;padding-right:0px;border-left-color:#000000;border-left-style:solid;border-left-width:1px;border-right-color:#000000;border-right-style:solid;border-right-width:1px;font-weight:normal;color:#000000;font-family:宋体;font-style:normal;font-size:12px;text-decoration:none;border-top-color:#000000;border-top-style:solid;border-top-width:1px;vertical-align:middle;line-height:16px;}</style>\n",
       "<td class=\"report1_5_3\"></td>\n",
       "<td class=\"report1_5_3\"></td>\n",
       "<td class=\"report1_5_3\"></td>\n",
       "<td class=\"report1_5_3\" onmouseover=\"report1417782over()\"></td>\n",
       "<td class=\"report1_5_3\"></td>\n",
       "</tr>\n",
       "<tr height=\"57\" style=\"height:57px;\">\n",
       "<td class=\"report1_4_1\" style=\"display:none\">2060</td>\n",
       "<td class=\"report1_5_2\" onmouseover=\"report1417782over()\">4号楼A301</td>\n",
       "<style> .report1_6_3 { text-align:center;background-color:#FFFFFF;border-bottom-color:#000000;border-bottom-style:solid;border-bottom-width:1px;padding-left:0px;padding-right:0px;border-left-color:#000000;border-left-style:solid;border-left-width:1px;border-right-color:#000000;border-right-style:solid;border-right-width:1px;font-weight:normal;color:#000000;font-family:宋体;font-style:normal;font-size:10px;text-decoration:none;border-top-color:#000000;border-top-style:solid;border-top-width:1px;vertical-align:middle;line-height:13px;}</style>\n",
       "<td class=\"report1_6_3\">液压传动<br/>冯勇建<br/>院系选修课<br/>1-15(64)</td>\n",
       "<td class=\"report1_5_3\" onmouseover=\"report1417782over()\"></td>\n",
       "<td class=\"report1_5_3\"></td>\n",
       "<td class=\"report1_5_3\"></td>\n",
       "<td class=\"report1_5_3\"></td>\n",
       "</tr>\n",
       "<tr height=\"57\" style=\"height:57px;\">\n",
       "<td class=\"report1_4_1\" onmouseover=\"report1417782over()\" style=\"display:none\">2061</td>\n",
       "<td class=\"report1_5_2\" onmouseover=\"report1417782over()\">4号楼A303</td>\n",
       "<style> .report1_7_3 { text-align:center;background-color:#FFFFFF;border-bottom-color:#000000;border-bottom-style:solid;border-bottom-width:1px;padding-left:0px;padding-right:0px;border-left-color:#000000;border-left-style:solid;border-left-width:1px;border-right-color:#000000;border-right-style:solid;border-right-width:1px;font-weight:normal;color:#000000;font-family:宋体;font-style:normal;font-size:7px;text-decoration:none;border-top-color:#000000;border-top-style:solid;border-top-width:1px;vertical-align:middle;line-height:9px;}</style>\n",
       "<td class=\"report1_7_3\" onmouseover=\"report1417782over()\">推拿学<br/>孟宪军<br/>院系必修课<br/>2017中医系<br/>1-15(63)</td>\n",
       "<td class=\"report1_7_3\">药理学<br/>金鑫<br/>院系必修课<br/>2017中医系,2018护理系<br/>1-15(105)</td>\n",
       "<td class=\"report1_5_3\"></td>\n",
       "<td class=\"report1_5_3\"></td>\n",
       "<td class=\"report1_5_3\"></td>\n",
       "</tr>\n",
       "<tr height=\"57\" style=\"height:57px;\">\n",
       "<td class=\"report1_4_1\" style=\"display:none\">2062</td>\n",
       "<td class=\"report1_5_2\" onmouseover=\"report1417782over()\">4号楼A305</td>\n",
       "<td class=\"report1_5_3\" onmouseover=\"report1417782over()\"></td>\n",
       "<td class=\"report1_5_3\"></td>\n",
       "<td class=\"report1_5_3\" onmouseover=\"report1417782over()\"></td>\n",
       "<td class=\"report1_5_3\" onmouseover=\"report1417782over()\"></td>\n",
       "<td class=\"report1_5_3\"></td>\n",
       "</tr>\n",
       "<tr height=\"57\" style=\"height:57px;\">\n",
       "<td class=\"report1_4_1\" onmouseover=\"report1417782over()\" style=\"display:none\">2067</td>\n",
       "<td class=\"report1_5_2\" onmouseover=\"report1417782over()\">4号楼A401</td>\n",
       "<td class=\"report1_5_3\" onmouseover=\"report1417782over()\"></td>\n",
       "<td class=\"report1_5_3\"></td>\n",
       "<td class=\"report1_7_3\" onmouseover=\"report1417782over()\">生命基础4<br/>邓小玲<br/>院系必修课<br/>2018临床医学系<br/>1-15(131)</td>\n",
       "<td class=\"report1_5_3\" onmouseover=\"report1417782over()\"></td>\n",
       "<td class=\"report1_5_3\"></td>\n",
       "</tr>\n",
       "<tr height=\"57\" style=\"height:57px;\">\n",
       "<td class=\"report1_4_1\" style=\"display:none\">2068</td>\n",
       "<td class=\"report1_5_2\" onmouseover=\"report1417782over()\">4号楼A402</td>\n",
       "<td class=\"report1_5_3\"></td>\n",
       "<td class=\"report1_5_3\" onmouseover=\"report1417782over()\">国际学院<br/>教学活动(借)<br/>院系</td>\n",
       "<td class=\"report1_5_3\" onmouseover=\"report1417782over()\">环境与生态学院<br/>教学活动(借)<br/>院系</td>\n",
       "<td class=\"report1_7_3\">面向对象技术与java程序设<br/>计<br/>缪克华<br/>院系选修课<br/>3-15(67)</td>\n",
       "<td class=\"report1_5_3\" onmouseover=\"report1417782over()\"></td>\n",
       "</tr>\n",
       "<tr height=\"57\" style=\"height:57px;\">\n",
       "<td class=\"report1_4_1\" style=\"display:none\">2069</td>\n",
       "<td class=\"report1_5_2\">4号楼A404</td>\n",
       "<td class=\"report1_5_3\"></td>\n",
       "<td class=\"report1_7_3\">软件技术基础实验<br/>周笋<br/>院系必修课<br/>2018自动化系<br/>1-15(81)</td>\n",
       "<td class=\"report1_6_3\">C程序设计基础<br/>曾奇斌<br/>全校性必修课<br/>1-15(单)(74)</td>\n",
       "<td class=\"report1_5_3\"></td>\n",
       "<td class=\"report1_5_3\" onmouseover=\"report1417782over()\"></td>\n",
       "</tr>\n",
       "<tr height=\"57\" style=\"height:57px;\">\n",
       "<td class=\"report1_4_1\" onmouseover=\"report1417782over()\" style=\"display:none\">2070</td>\n",
       "<td class=\"report1_5_2\">4号楼A405</td>\n",
       "<td class=\"report1_5_3\"></td>\n",
       "<td class=\"report1_7_3\" onmouseover=\"report1417782over()\">软件技术基础实验<br/>周笋<br/>院系必修课<br/>2018自动化系<br/>1-15(81)</td>\n",
       "<td class=\"report1_6_3\" onmouseover=\"report1417782over()\">C程序设计基础<br/>曾奇斌<br/>全校性必修课<br/>1-15(单)(74)</td>\n",
       "<td class=\"report1_5_3\"></td>\n",
       "<td class=\"report1_5_3\" onmouseover=\"report1417782over()\"></td>\n",
       "</tr>\n",
       "</table>\n",
       "<script language=\"javascript\">\n",
       "\tfunction report1_toPage( pageNo ) {\n",
       "\t//覆盖平台自己的report1_toPage函数，1.修改其获取Form的方式，2.强制对其action赋值\n",
       "\tif( pageNo < 1 || pageNo > report1_getTotalPage() ) return;\n",
       "\t\tdocument.all.report1_currPage.value = pageNo;\n",
       "\t\t//alert(location.hostname +\":\"+location.port);\n",
       "\t\t//document.forms[0].action = \"http://s2950-1.wiscom.com.cn:9176/epstar/reportJsp/showReportRun.jsp?1267679295748\";\n",
       "\t\tdocument.forms[0].action = \"http://bkjw.xmu.edu.cn:80/epstar/reportJsp/showReportRun.jsp?1267679295748\";\n",
       "\t\tdocument.forms[0].submit();\n",
       "\t}\n",
       "</script>\n",
       "</td></tr></table>\n",
       "</div>\n",
       "<div id=\"div2\" style=\"width:100%;height:100%\"></div>\n",
       "<script language=\"javascript\">\n",
       "\tdocument.getElementById( \"t_page_span\" ).innerHTML=report1_getTotalPage();\n",
       "\tdocument.getElementById( \"c_page_span\" ).innerHTML=report1_getCurrPage();\n",
       "\t\n",
       "\tfunction zjdy(){\n",
       "\tvar url=\"/epstar/reportJsp/directprint.jsp?report={JWXT/PKBB/PKGL_JSZYZYXX.raq(cond1= 1=1 and pk.xnxqdm='20191' and F_PKGL_CHECKRAWSTRINGCONFLIT(pk.zcbh,F_PKGL_GENRAWSTRINGOFJC('3','3'))=1 AND pk.xq='4' AND rm.jxl='83';cond2=1=1 AND rm.jxl='83';xnxqdm=''20191'';zcdm=''3'';week=''4'';jxldm=''83'';)}\";\n",
       "\t//alert(url);\n",
       "\twindow.showModalDialog(url,\"\",\"dialogHeight:120px; dialogWidth: 250px; resizable:off; status: no;center: yes\");\n",
       "\t}\n",
       "</script>\n",
       "<script language=\"javascript\">\n",
       "\tvar obj = parent.frames[1];\n",
       "\t//obj.document.body.style.overflow = \"hidden\";\n",
       "\twindow.onresize = myResize;\n",
       "\tvar div1 = document.getElementById( \"div1\" );\n",
       "\n",
       "\tfunction myResize() {\n",
       "\t\tvar scrolldiv = document.getElementById( \"report1_scrollArea\" );\n",
       "\t\tif( scrolldiv == null ) div1.id = \"report1_contentdiv\";\n",
       "\t\tif( document.all ) {\n",
       "\t\t\tdiv2.style.display = \"\";\n",
       "\t\t\tdiv1.style.height = document.body.offsetHeight - titleTable.offsetHeight;\n",
       "\t\t\tdiv1.style.width = div2.offsetWidth;\n",
       "\t\t\tdiv2.style.display = \"none\";\n",
       "\t\t}\n",
       "\t\telse {\n",
       "\t\t\tvar div22 = document.getElementById( \"div2\" );\n",
       "\t\t\tdiv22.style.display = \"\";\n",
       "\t\t\tdiv1.style.height = div22.offsetHeight - document.getElementById( \"titleTable\" ).offsetHeight;\n",
       "\t\t\tdiv1.style.width = div22.offsetWidth;\n",
       "\t\t\tdiv22.style.display = \"none\";\n",
       "\t\t}\n",
       "\t\tif( scrolldiv != null ) {\n",
       "\t\t\tdiv1.style.overflow = \"hidden\";\n",
       "\t\t\tscrolldiv.style.width = div1.clientWidth - 15;\n",
       "\t\t\tvar h = div1.clientHeight - 2;\n",
       "\t\t\th -= getHeightX( document.body );\n",
       "\t\t\tvar paramTable = document.getElementById( \"param_tbl\" );\n",
       "\t\t\tif( paramTable != null ) h -= paramTable.offsetHeight;\n",
       "\t\t\tscrolldiv.style.height = h;\n",
       "\t\t\t_resizeScroll();\n",
       "\t\t}\n",
       "\t}\n",
       "\tmyResize();\n",
       "</script>\n",
       "</body>\n",
       "</html>"
      ]
     },
     "execution_count": 37,
     "metadata": {},
     "output_type": "execute_result"
    }
   ],
   "source": [
    "#url3=\"http://bkjw.xmu.edu.cn/epstar/reportJsp/show.jsp?wid=PKGL_JSZYZYXX&preview=yes&param='cond1= 1=1 and pk.xnxqdm='20191' and F_PKGL_CHECKRAWSTRINGCONFLIT(pk.zcbh,F_PKGL_GENRAWSTRINGOFJC('2','2'))=1 AND pk.xq='2' AND rm.jxl='83';cond2=1=1 AND rm.jxl='83';xnxqdm=''20191'';zcdm=''2'';week=''2'';jxldm=''83'''\"\n",
    "dicBuild={\n",
    "    '四号楼':'83',\n",
    "    '一号楼':'94'\n",
    "}\n",
    "dicTerm={\n",
    "    '2018-2019学年 第三学期':'20183',\n",
    "    '2019-2020学年 第一学期':'20191'\n",
    "}\n",
    "def getTableUrl(term,week,day,build,dic_build=dicBuild,dic_term=dicTerm):\n",
    "    url=\"http://bkjw.xmu.edu.cn/epstar/reportJsp/show.jsp?wid=PKGL_JSZYZYXX&preview=yes&param='cond1= 1=1 and pk.xnxqdm='\"\n",
    "    url+=dic_term[term]\n",
    "    url+=\"' and F_PKGL_CHECKRAWSTRINGCONFLIT(pk.zcbh,F_PKGL_GENRAWSTRINGOFJC('\"\n",
    "    url+=week\n",
    "    url+=\"','\"\n",
    "    url+=week\n",
    "    url+=\"'))=1 AND pk.xq='\"\n",
    "    url+=day\n",
    "    url+=\"' AND rm.jxl='\"\n",
    "    url+=dic_build[build]\n",
    "    url+=\"';cond2=1=1 AND rm.jxl='\"\n",
    "    url+=dic_build[build]\n",
    "    url+=\"';xnxqdm=''\"\n",
    "    url+=dic_term[term]\n",
    "    url+=\"'';zcdm=''\"\n",
    "    url+=week\n",
    "    url+=\"'';week=''\"\n",
    "    url+=day\n",
    "    url+=\"'';jxldm=''\"\n",
    "    url+=dic_build[build]\n",
    "    url+=\"'''\"\n",
    "    return url\n",
    "\n",
    "tabUrl=getTableUrl(term='2019-2020学年 第一学期',week='3',day='4',build='四号楼')\n",
    "\n",
    "\n",
    "getFirstTab=False\n",
    "if logOnSuccess:\n",
    "    #get方法获取页面信息\n",
    "    myRequest=mySeesion.get(tabUrl)\n",
    "    if myRequest.status_code==200:\n",
    "        #用BeautifulSoup整理页面信息\n",
    "        tmpStr=myRequest.text\n",
    "        if myRequest.text.find('学期教室资源占用信息')>0:\n",
    "            mySoup=BeautifulSoup(myRequest.text,'lxml')\n",
    "            getFirstTab=True\n",
    "mySoup"
   ]
  },
  {
   "cell_type": "markdown",
   "metadata": {},
   "source": [
    "#### 解析html\n",
    "##### 解析当页课表"
   ]
  },
  {
   "cell_type": "code",
   "execution_count": 38,
   "metadata": {},
   "outputs": [
    {
     "data": {
      "text/plain": [
       "[['4号楼A105', '', '', '', '', ''],\n",
       " ['4号楼A301', '液压传动冯勇建院系选修课1-15(64)', '', '', '', ''],\n",
       " ['4号楼A303',\n",
       "  '推拿学孟宪军院系必修课2017中医系1-15(63)',\n",
       "  '药理学金鑫院系必修课2017中医系,2018护理系1-15(105)',\n",
       "  '',\n",
       "  '',\n",
       "  ''],\n",
       " ['4号楼A305', '', '', '', '', ''],\n",
       " ['4号楼A401', '', '', '生命基础4邓小玲院系必修课2018临床医学系1-15(131)', '', ''],\n",
       " ['4号楼A402',\n",
       "  '',\n",
       "  '国际学院教学活动(借)院系',\n",
       "  '环境与生态学院教学活动(借)院系',\n",
       "  '面向对象技术与java程序设计缪克华院系选修课3-15(67)',\n",
       "  ''],\n",
       " ['4号楼A404',\n",
       "  '',\n",
       "  '软件技术基础实验周笋院系必修课2018自动化系1-15(81)',\n",
       "  'C程序设计基础曾奇斌全校性必修课1-15(单)(74)',\n",
       "  '',\n",
       "  ''],\n",
       " ['4号楼A405',\n",
       "  '',\n",
       "  '软件技术基础实验周笋院系必修课2018自动化系1-15(81)',\n",
       "  'C程序设计基础曾奇斌全校性必修课1-15(单)(74)',\n",
       "  '',\n",
       "  '']]"
      ]
     },
     "execution_count": 38,
     "metadata": {},
     "output_type": "execute_result"
    }
   ],
   "source": [
    "def findTable(soupTxt,tightTable=[]):\n",
    "    myTRs=soupTxt.find_all('tr',height=\"57\")\n",
    "    for tr in myTRs:\n",
    "        tds=tr.find_all('td')\n",
    "        if len(tds)==7:\n",
    "            currRow=[td.get_text() for td in tds]\n",
    "            tightTable.append(currRow[1:])\n",
    "    return tightTable\n",
    "currTab=[]\n",
    "currTab=findTable(mySoup,currTab)\n",
    "currTab\n",
    "#tds=myTRs[2].find_all('td') \n",
    "#currRow=[td.get_text() for td in tds]\n",
    "#currRow[1:]"
   ]
  },
  {
   "cell_type": "markdown",
   "metadata": {},
   "source": [
    "##### 获取读取课表后几页的post信息"
   ]
  },
  {
   "cell_type": "code",
   "execution_count": 39,
   "metadata": {},
   "outputs": [
    {
     "data": {
      "text/plain": [
       "{'cond1': \" 1=1 and pk.xnxqdm='20191' and F_PKGL_CHECKRAWSTRINGCONFLIT(pk.zcbh,F_PKGL_GENRAWSTRINGOFJC('3','3'))=1 AND pk.xq='4' AND rm.jxl='83';cond2=1=1 AND rm.jxl='83';xnxqdm=''20191'';zcdm=''3'';week=''4'';jxldm=''83''\",\n",
       " 'wid': 'PKGL_JSZYZYXX',\n",
       " 'reportParamsId': '100669',\n",
       " 'srcId': 'A1892',\n",
       " 'report1_currPage': '1',\n",
       " 'report1_sessionId': 'A1894',\n",
       " 'report1_cachedId': 'A1893'}"
      ]
     },
     "execution_count": 39,
     "metadata": {},
     "output_type": "execute_result"
    }
   ],
   "source": [
    "myForms=mySoup.find_all('form')\n",
    "postForm=myForms[0]\n",
    "postUrl=postForm.get('action')\n",
    "postInputs=postForm.find_all('input')\n",
    "postArgName=[input_.get('name') for input_ in postInputs]\n",
    "postArgVal=[input_.get('value') for input_ in postInputs]\n",
    "postData=dict(list(zip(postArgName,postArgVal)))\n",
    "postData"
   ]
  },
  {
   "cell_type": "markdown",
   "metadata": {},
   "source": [
    "##### 获取当前页和总页数"
   ]
  },
  {
   "cell_type": "code",
   "execution_count": 43,
   "metadata": {},
   "outputs": [
    {
     "name": "stdout",
     "output_type": "stream",
     "text": [
      "4/4\n"
     ]
    }
   ],
   "source": [
    "import re\n",
    "myScripts=mySoup.find_all('script')\n",
    "for Script in myScripts:\n",
    "    tmpStr=str(Script)\n",
    "    if tmpStr.find('function report1_getCurrPage()')>0:\n",
    "        pageInfo=re.findall('\\d',tmpStr)\n",
    "        if len(pageInfo)==4:\n",
    "            currPage=pageInfo[1]\n",
    "            totalPage=pageInfo[3]\n",
    "            print(currPage+'/'+totalPage)\n",
    "        \n"
   ]
  },
  {
   "cell_type": "markdown",
   "metadata": {},
   "source": [
    "#### 使用Post方法获取后几页课表"
   ]
  },
  {
   "cell_type": "code",
   "execution_count": 41,
   "metadata": {
    "scrolled": true
   },
   "outputs": [
    {
     "data": {
      "text/plain": [
       "[['4号楼A105', '', '', '', '', ''],\n",
       " ['4号楼A301', '液压传动冯勇建院系选修课1-15(64)', '', '', '', ''],\n",
       " ['4号楼A303',\n",
       "  '推拿学孟宪军院系必修课2017中医系1-15(63)',\n",
       "  '药理学金鑫院系必修课2017中医系,2018护理系1-15(105)',\n",
       "  '',\n",
       "  '',\n",
       "  ''],\n",
       " ['4号楼A305', '', '', '', '', ''],\n",
       " ['4号楼A401', '', '', '生命基础4邓小玲院系必修课2018临床医学系1-15(131)', '', ''],\n",
       " ['4号楼A402',\n",
       "  '',\n",
       "  '国际学院教学活动(借)院系',\n",
       "  '环境与生态学院教学活动(借)院系',\n",
       "  '面向对象技术与java程序设计缪克华院系选修课3-15(67)',\n",
       "  ''],\n",
       " ['4号楼A404',\n",
       "  '',\n",
       "  '软件技术基础实验周笋院系必修课2018自动化系1-15(81)',\n",
       "  'C程序设计基础曾奇斌全校性必修课1-15(单)(74)',\n",
       "  '',\n",
       "  ''],\n",
       " ['4号楼A405',\n",
       "  '',\n",
       "  '软件技术基础实验周笋院系必修课2018自动化系1-15(81)',\n",
       "  'C程序设计基础曾奇斌全校性必修课1-15(单)(74)',\n",
       "  '',\n",
       "  ''],\n",
       " ['4号楼B101', '', '', '', '', ''],\n",
       " ['4号楼B304', '', '化学海洋学陈敏院系必修课20171-15(单)(36)', '', '', ''],\n",
       " ['4号楼B305', '管理信息系统B曾一锋院系必修课2016自动化系1-8(10)', '', '', '', ''],\n",
       " ['4号楼B306', '', '', '', '', ''],\n",
       " ['4号楼B307', '', '', '', '', ''],\n",
       " ['4号楼B308', '', '', '', '', ''],\n",
       " ['4号楼B309', '', '', '', '', ''],\n",
       " ['4号楼B310', '', '', '', '', ''],\n",
       " ['4号楼B311', '', '', '', '', ''],\n",
       " ['4号楼B312', '', '', '', '', ''],\n",
       " ['4号楼B313', '', '', '海洋与地球学院教学活动(借)院系', '', ''],\n",
       " ['4号楼B404',\n",
       "  '',\n",
       "  '',\n",
       "  'C程序设计基础赵万磊全校性必修课1-15(单)(83)',\n",
       "  '',\n",
       "  '管理信息系统实验曹浪财院系选修课1-8(42)'],\n",
       " ['4号楼B405', '', '', 'C程序设计基础赵万磊全校性必修课1-15(单)(83)', '', ''],\n",
       " ['4号楼B406', '', '', '', '', ''],\n",
       " ['4号楼B408', '', '', '', '', ''],\n",
       " ['4号楼B411',\n",
       "  '',\n",
       "  '英语（上）汪文娟院系必修课2019少数民族预科班1-15(70)',\n",
       "  '大学生职业生涯规划与发展张秀丽院系选修课1-15(70)',\n",
       "  '大学语文（上）董飒院系必修课2019少数民族预科班1-15(70)',\n",
       "  ''],\n",
       " ['4号楼B412', '', '', '', '', '']]"
      ]
     },
     "execution_count": 41,
     "metadata": {},
     "output_type": "execute_result"
    }
   ],
   "source": [
    "for i in range(int(currPage)+1,int(totalPage)+1):\n",
    "    postData['report1_currPage']=i\n",
    "    myRequest=mySeesion.post(postUrl,postData)\n",
    "    mySoup=BeautifulSoup(myRequest.text,'lxml')\n",
    "    currTab=findTable(mySoup,currTab)\n",
    "currTab"
   ]
  },
  {
   "cell_type": "markdown",
   "metadata": {},
   "source": [
    "#### 退出登录"
   ]
  },
  {
   "cell_type": "code",
   "execution_count": 42,
   "metadata": {},
   "outputs": [],
   "source": [
    "logoutUrl='http://bkjw.xmu.edu.cn/epstar/login/logout.jsp'\n",
    "mySeesion.get(logoutUrl)\n",
    "mySeesion.close()"
   ]
  },
  {
   "cell_type": "code",
   "execution_count": null,
   "metadata": {},
   "outputs": [],
   "source": []
  },
  {
   "cell_type": "code",
   "execution_count": null,
   "metadata": {},
   "outputs": [],
   "source": []
  },
  {
   "cell_type": "code",
   "execution_count": null,
   "metadata": {},
   "outputs": [],
   "source": []
  },
  {
   "cell_type": "code",
   "execution_count": null,
   "metadata": {},
   "outputs": [],
   "source": []
  },
  {
   "cell_type": "code",
   "execution_count": null,
   "metadata": {},
   "outputs": [],
   "source": []
  },
  {
   "cell_type": "code",
   "execution_count": null,
   "metadata": {},
   "outputs": [],
   "source": []
  },
  {
   "cell_type": "code",
   "execution_count": null,
   "metadata": {},
   "outputs": [],
   "source": []
  },
  {
   "cell_type": "code",
   "execution_count": null,
   "metadata": {},
   "outputs": [],
   "source": []
  },
  {
   "cell_type": "code",
   "execution_count": null,
   "metadata": {},
   "outputs": [],
   "source": []
  },
  {
   "cell_type": "code",
   "execution_count": null,
   "metadata": {},
   "outputs": [],
   "source": []
  },
  {
   "cell_type": "code",
   "execution_count": null,
   "metadata": {},
   "outputs": [],
   "source": []
  }
 ],
 "metadata": {
  "kernelspec": {
   "display_name": "Python 3",
   "language": "python",
   "name": "python3"
  },
  "language_info": {
   "codemirror_mode": {
    "name": "ipython",
    "version": 3
   },
   "file_extension": ".py",
   "mimetype": "text/x-python",
   "name": "python",
   "nbconvert_exporter": "python",
   "pygments_lexer": "ipython3",
   "version": "3.7.3"
  }
 },
 "nbformat": 4,
 "nbformat_minor": 2
}
