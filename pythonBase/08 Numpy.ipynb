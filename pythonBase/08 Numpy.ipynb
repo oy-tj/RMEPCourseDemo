{
 "cells": [
  {
   "cell_type": "markdown",
   "metadata": {},
   "source": [
    "- numpy\n",
    "- pandas\n",
    "- matplotlib"
   ]
  },
  {
   "cell_type": "markdown",
   "metadata": {},
   "source": [
    "# numpy"
   ]
  },
  {
   "cell_type": "markdown",
   "metadata": {},
   "source": [
    "#### python中的数组类型（一般不直接用，numpy中会使用到）"
   ]
  },
  {
   "cell_type": "code",
   "execution_count": 2,
   "metadata": {},
   "outputs": [
    {
     "data": {
      "text/plain": [
       "array.array"
      ]
     },
     "execution_count": 2,
     "metadata": {},
     "output_type": "execute_result"
    }
   ],
   "source": [
    "import array\n",
    "a=array.array('i',range(10))\n",
    "type(a)"
   ]
  },
  {
   "cell_type": "code",
   "execution_count": 3,
   "metadata": {},
   "outputs": [],
   "source": [
    "import numpy as np"
   ]
  },
  {
   "cell_type": "markdown",
   "metadata": {},
   "source": [
    "#### 从列表转换数组(numpy中的数组)"
   ]
  },
  {
   "cell_type": "code",
   "execution_count": 4,
   "metadata": {},
   "outputs": [
    {
     "data": {
      "text/plain": [
       "numpy.ndarray"
      ]
     },
     "execution_count": 4,
     "metadata": {},
     "output_type": "execute_result"
    }
   ],
   "source": [
    "lstA=list(range(10))\n",
    "b=np.array(lstA)\n",
    "type(b)"
   ]
  },
  {
   "cell_type": "markdown",
   "metadata": {},
   "source": [
    "#### 生成numpy数组"
   ]
  },
  {
   "cell_type": "code",
   "execution_count": 5,
   "metadata": {},
   "outputs": [
    {
     "data": {
      "text/plain": [
       "array([0, 0, 0, 0, 0, 0, 0, 0, 0, 0])"
      ]
     },
     "execution_count": 5,
     "metadata": {},
     "output_type": "execute_result"
    }
   ],
   "source": [
    "#一维0数组\n",
    "a=np.zeros(10,dtype=int)\n",
    "a"
   ]
  },
  {
   "cell_type": "code",
   "execution_count": 6,
   "metadata": {},
   "outputs": [
    {
     "data": {
      "text/plain": [
       "array([[3.14, 3.14, 3.14],\n",
       "       [3.14, 3.14, 3.14],\n",
       "       [3.14, 3.14, 3.14]])"
      ]
     },
     "execution_count": 6,
     "metadata": {},
     "output_type": "execute_result"
    }
   ],
   "source": [
    "#二维任意数组\n",
    "c=np.full((3,3),3.14)\n",
    "c"
   ]
  },
  {
   "cell_type": "code",
   "execution_count": 7,
   "metadata": {},
   "outputs": [
    {
     "data": {
      "text/plain": [
       "array([[4.12, 4.12, 4.12],\n",
       "       [4.12, 4.12, 4.12],\n",
       "       [4.12, 4.12, 4.12]])"
      ]
     },
     "execution_count": 7,
     "metadata": {},
     "output_type": "execute_result"
    }
   ],
   "source": [
    "#比照已有数组尺寸，新建数组\n",
    "np.full_like(c,4.12)"
   ]
  },
  {
   "cell_type": "markdown",
   "metadata": {},
   "source": [
    "#### 随机数random"
   ]
  },
  {
   "cell_type": "code",
   "execution_count": 8,
   "metadata": {},
   "outputs": [
    {
     "data": {
      "text/plain": [
       "10"
      ]
     },
     "execution_count": 8,
     "metadata": {},
     "output_type": "execute_result"
    }
   ],
   "source": [
    "import random\n",
    "#随机整形\n",
    "random.randint(5,10)"
   ]
  },
  {
   "cell_type": "markdown",
   "metadata": {},
   "source": [
    "#### numpy中的随机数"
   ]
  },
  {
   "cell_type": "code",
   "execution_count": 9,
   "metadata": {},
   "outputs": [
    {
     "data": {
      "text/plain": [
       "2"
      ]
     },
     "execution_count": 9,
     "metadata": {},
     "output_type": "execute_result"
    }
   ],
   "source": [
    "#普通随机数\n",
    "np.random.randint(0,9)"
   ]
  },
  {
   "cell_type": "code",
   "execution_count": 10,
   "metadata": {},
   "outputs": [
    {
     "data": {
      "text/plain": [
       "array([[5, 6, 8],\n",
       "       [2, 2, 0],\n",
       "       [1, 3, 4]])"
      ]
     },
     "execution_count": 10,
     "metadata": {},
     "output_type": "execute_result"
    }
   ],
   "source": [
    "#随机整形数组\n",
    "np.random.randint(0,9,(3,3))"
   ]
  },
  {
   "cell_type": "code",
   "execution_count": 11,
   "metadata": {},
   "outputs": [
    {
     "data": {
      "text/plain": [
       "array([[0.08718834, 0.79037149, 0.18754397],\n",
       "       [0.80397737, 0.75733857, 0.30786783],\n",
       "       [0.45626411, 0.87134894, 0.62822193]])"
      ]
     },
     "execution_count": 11,
     "metadata": {},
     "output_type": "execute_result"
    }
   ],
   "source": [
    "#随机浮点数组\n",
    "np.random.random((3,3))"
   ]
  },
  {
   "cell_type": "code",
   "execution_count": 12,
   "metadata": {},
   "outputs": [
    {
     "data": {
      "text/plain": [
       "array([[ 1.17474311,  0.59936999,  1.58043647],\n",
       "       [-0.02509234,  0.22262758,  0.55877531],\n",
       "       [-0.14604336, -0.46220365, -1.58026019]])"
      ]
     },
     "execution_count": 12,
     "metadata": {},
     "output_type": "execute_result"
    }
   ],
   "source": [
    "#随机均值为0，标准差为1的正态分布数组\n",
    "np.random.normal(0,1,(3,3))"
   ]
  },
  {
   "cell_type": "code",
   "execution_count": 13,
   "metadata": {},
   "outputs": [
    {
     "data": {
      "text/plain": [
       "array([0, 2, 4, 6, 8])"
      ]
     },
     "execution_count": 13,
     "metadata": {},
     "output_type": "execute_result"
    }
   ],
   "source": [
    "#生成数组范围0-10，步长2\n",
    "np.arange(0,10,2)"
   ]
  },
  {
   "cell_type": "code",
   "execution_count": 14,
   "metadata": {},
   "outputs": [
    {
     "data": {
      "text/plain": [
       "array([ 0. ,  0.2,  0.4,  0.6,  0.8,  1. ,  1.2,  1.4,  1.6,  1.8,  2. ,\n",
       "        2.2,  2.4,  2.6,  2.8,  3. ,  3.2,  3.4,  3.6,  3.8,  4. ,  4.2,\n",
       "        4.4,  4.6,  4.8,  5. ,  5.2,  5.4,  5.6,  5.8,  6. ,  6.2,  6.4,\n",
       "        6.6,  6.8,  7. ,  7.2,  7.4,  7.6,  7.8,  8. ,  8.2,  8.4,  8.6,\n",
       "        8.8,  9. ,  9.2,  9.4,  9.6,  9.8, 10. , 10.2, 10.4, 10.6, 10.8,\n",
       "       11. , 11.2, 11.4, 11.6, 11.8, 12. , 12.2, 12.4, 12.6, 12.8, 13. ,\n",
       "       13.2, 13.4, 13.6, 13.8, 14. , 14.2, 14.4, 14.6, 14.8, 15. , 15.2,\n",
       "       15.4, 15.6, 15.8, 16. , 16.2, 16.4, 16.6, 16.8, 17. , 17.2, 17.4,\n",
       "       17.6, 17.8, 18. , 18.2, 18.4, 18.6, 18.8, 19. , 19.2, 19.4, 19.6,\n",
       "       19.8, 20. ])"
      ]
     },
     "execution_count": 14,
     "metadata": {},
     "output_type": "execute_result"
    }
   ],
   "source": [
    "#生成0-20之间的元素为101个的线性序列\n",
    "np.linspace(0,20,101)"
   ]
  },
  {
   "cell_type": "code",
   "execution_count": 15,
   "metadata": {},
   "outputs": [
    {
     "data": {
      "text/plain": [
       "array([[1., 0., 0., 0.],\n",
       "       [0., 1., 0., 0.],\n",
       "       [0., 0., 1., 0.],\n",
       "       [0., 0., 0., 1.]])"
      ]
     },
     "execution_count": 15,
     "metadata": {},
     "output_type": "execute_result"
    }
   ],
   "source": [
    "#生成4阶单位矩阵\n",
    "np.eye(4)"
   ]
  },
  {
   "cell_type": "markdown",
   "metadata": {},
   "source": [
    "#### 二维数组访问"
   ]
  },
  {
   "cell_type": "code",
   "execution_count": 16,
   "metadata": {},
   "outputs": [
    {
     "data": {
      "text/plain": [
       "6"
      ]
     },
     "execution_count": 16,
     "metadata": {},
     "output_type": "execute_result"
    }
   ],
   "source": [
    "#新建一个列表\n",
    "var=[[1,2,3],[4,5,6],[7,8,9]]\n",
    "#访问二维列表中的元素只能通过两个中括号[][]完成\n",
    "var[1][2]"
   ]
  },
  {
   "cell_type": "code",
   "execution_count": 17,
   "metadata": {},
   "outputs": [
    {
     "data": {
      "text/plain": [
       "(6, 6)"
      ]
     },
     "execution_count": 17,
     "metadata": {},
     "output_type": "execute_result"
    }
   ],
   "source": [
    "#列表转化为二维数组\n",
    "a=np.array(var)\n",
    "#访问二维数组可以使用[][]或[,]完成，推荐使用[,]便于切片操作\n",
    "a[1][2],a[1,2]"
   ]
  },
  {
   "cell_type": "code",
   "execution_count": 18,
   "metadata": {},
   "outputs": [
    {
     "data": {
      "text/plain": [
       "array([[1],\n",
       "       [4]])"
      ]
     },
     "execution_count": 18,
     "metadata": {},
     "output_type": "execute_result"
    }
   ],
   "source": [
    "#数组切片,取前两行的前1列\n",
    "a[:2,:1]"
   ]
  },
  {
   "cell_type": "code",
   "execution_count": 19,
   "metadata": {},
   "outputs": [
    {
     "data": {
      "text/plain": [
       "2"
      ]
     },
     "execution_count": 19,
     "metadata": {},
     "output_type": "execute_result"
    }
   ],
   "source": [
    "#数组维度\n",
    "a.ndim"
   ]
  },
  {
   "cell_type": "code",
   "execution_count": 20,
   "metadata": {},
   "outputs": [
    {
     "data": {
      "text/plain": [
       "(3, 3)"
      ]
     },
     "execution_count": 20,
     "metadata": {},
     "output_type": "execute_result"
    }
   ],
   "source": [
    "#数组形状（尺寸）\n",
    "a.shape"
   ]
  },
  {
   "cell_type": "code",
   "execution_count": 21,
   "metadata": {},
   "outputs": [
    {
     "data": {
      "text/plain": [
       "9"
      ]
     },
     "execution_count": 21,
     "metadata": {},
     "output_type": "execute_result"
    }
   ],
   "source": [
    "#数组大小（总元素个数）\n",
    "a.size"
   ]
  },
  {
   "cell_type": "code",
   "execution_count": 22,
   "metadata": {},
   "outputs": [
    {
     "data": {
      "text/plain": [
       "dtype('int32')"
      ]
     },
     "execution_count": 22,
     "metadata": {},
     "output_type": "execute_result"
    }
   ],
   "source": [
    "#元素数据类型\n",
    "a.dtype"
   ]
  },
  {
   "cell_type": "code",
   "execution_count": 23,
   "metadata": {},
   "outputs": [
    {
     "data": {
      "text/plain": [
       "4"
      ]
     },
     "execution_count": 23,
     "metadata": {},
     "output_type": "execute_result"
    }
   ],
   "source": [
    "#元素大小（字节）\n",
    "a.itemsize"
   ]
  },
  {
   "cell_type": "code",
   "execution_count": 24,
   "metadata": {},
   "outputs": [
    {
     "data": {
      "text/plain": [
       "36"
      ]
     },
     "execution_count": 24,
     "metadata": {},
     "output_type": "execute_result"
    }
   ],
   "source": [
    "#数组大小（占用空间）\n",
    "a.nbytes"
   ]
  },
  {
   "cell_type": "markdown",
   "metadata": {},
   "source": [
    "### 数值运算"
   ]
  },
  {
   "cell_type": "code",
   "execution_count": 25,
   "metadata": {},
   "outputs": [
    {
     "name": "stdout",
     "output_type": "stream",
     "text": [
      "[[1 2 3]\n",
      " [4 5 6]\n",
      " [7 8 9]]\n",
      "[[11 12 13]\n",
      " [14 15 16]\n",
      " [17 18 19]]\n",
      "[[10 20 30]\n",
      " [40 50 60]\n",
      " [70 80 90]]\n"
     ]
    }
   ],
   "source": [
    "print(a)\n",
    "print(a+10)\n",
    "print(a*10)"
   ]
  },
  {
   "cell_type": "markdown",
   "metadata": {},
   "source": [
    "|操作符|numpy函数|功能|\n",
    "|-|-|-|\n",
    "|+|add|Addition (e.g.,1+1=2)|\n",
    "|-|subtract|Subtraction (e.g.,3-2=1)|\n",
    "|-|negative|Unary negation (e.g.,-2)|\n",
    "|\\*|multiply|Multiplication (e.g.,3\\*2=6)|\n",
    "|/|divide|Division (e.g.,3/2=1.5)|\n",
    "|//|floor_divide|Floor Division (e.g.,3//2=1)|\n",
    "|\\*\\*|power|Exponentiation (e.g.,3\\*\\*2=9)|\n",
    "|%|mod|Modulus/remainder (e.g.,9%4=1)|"
   ]
  },
  {
   "cell_type": "markdown",
   "metadata": {},
   "source": [
    "### 统计运算"
   ]
  },
  {
   "cell_type": "code",
   "execution_count": 54,
   "metadata": {},
   "outputs": [
    {
     "name": "stdout",
     "output_type": "stream",
     "text": [
      "10\n",
      "[[1 2 3]\n",
      " [4 5 6]\n",
      " [7 8 9]]\n",
      "[12 15 18]\n"
     ]
    }
   ],
   "source": [
    "#python内置求和\n",
    "print(sum([1,2,3,4]))\n",
    "print(a)\n",
    "print(sum(a))#对列进行求和"
   ]
  },
  {
   "cell_type": "code",
   "execution_count": 53,
   "metadata": {},
   "outputs": [
    {
     "name": "stdout",
     "output_type": "stream",
     "text": [
      "[[1 2 3]\n",
      " [4 5 6]\n",
      " [7 8 9]]\n",
      "45\n",
      "[12 15 18]\n",
      "[ 6 15 24]\n"
     ]
    }
   ],
   "source": [
    "#numpyq求和\n",
    "print(a)\n",
    "print(np.sum(a))\n",
    "print(np.sum(a,axis=0))#对某个维度进行求和\n",
    "print(np.sum(a,axis=1))#对某个维度进行求和"
   ]
  },
  {
   "cell_type": "markdown",
   "metadata": {},
   "source": [
    "### Notebook执行效率分析\n",
    "%timeit"
   ]
  },
  {
   "cell_type": "code",
   "execution_count": 55,
   "metadata": {},
   "outputs": [
    {
     "name": "stdout",
     "output_type": "stream",
     "text": [
      "1.7 ms ± 30.4 µs per loop (mean ± std. dev. of 7 runs, 1000 loops each)\n"
     ]
    }
   ],
   "source": [
    "n=np.random.rand(10000)\n",
    "%timeit sum(n)#ms级运算时间，慢"
   ]
  },
  {
   "cell_type": "code",
   "execution_count": 56,
   "metadata": {},
   "outputs": [
    {
     "name": "stdout",
     "output_type": "stream",
     "text": [
      "7.15 µs ± 154 ns per loop (mean ± std. dev. of 7 runs, 100000 loops each)\n"
     ]
    }
   ],
   "source": [
    "%timeit np.sum(n)#微秒级运算时间，快"
   ]
  },
  {
   "cell_type": "markdown",
   "metadata": {},
   "source": [
    "### 比较运算"
   ]
  },
  {
   "cell_type": "code",
   "execution_count": 58,
   "metadata": {},
   "outputs": [
    {
     "data": {
      "text/plain": [
       "array([[False, False, False],\n",
       "       [ True,  True,  True],\n",
       "       [ True,  True,  True]])"
      ]
     },
     "execution_count": 58,
     "metadata": {},
     "output_type": "execute_result"
    }
   ],
   "source": [
    "a>3"
   ]
  },
  {
   "cell_type": "code",
   "execution_count": 60,
   "metadata": {},
   "outputs": [
    {
     "data": {
      "text/plain": [
       "array([[ True,  True, False],\n",
       "       [False, False, False],\n",
       "       [False, False, False]])"
      ]
     },
     "execution_count": 60,
     "metadata": {},
     "output_type": "execute_result"
    }
   ],
   "source": [
    "a<3"
   ]
  },
  {
   "cell_type": "code",
   "execution_count": 61,
   "metadata": {},
   "outputs": [
    {
     "data": {
      "text/plain": [
       "array([[False, False,  True],\n",
       "       [False, False, False],\n",
       "       [False, False, False]])"
      ]
     },
     "execution_count": 61,
     "metadata": {},
     "output_type": "execute_result"
    }
   ],
   "source": [
    "a==3"
   ]
  },
  {
   "cell_type": "code",
   "execution_count": 62,
   "metadata": {},
   "outputs": [
    {
     "data": {
      "text/plain": [
       "False"
      ]
     },
     "execution_count": 62,
     "metadata": {},
     "output_type": "execute_result"
    }
   ],
   "source": [
    "np.all(a>3)#是否全为true"
   ]
  },
  {
   "cell_type": "code",
   "execution_count": 64,
   "metadata": {},
   "outputs": [
    {
     "data": {
      "text/plain": [
       "True"
      ]
     },
     "execution_count": 64,
     "metadata": {},
     "output_type": "execute_result"
    }
   ],
   "source": [
    "np.any(a>3)#是否有true"
   ]
  },
  {
   "cell_type": "markdown",
   "metadata": {},
   "source": [
    "### 变形"
   ]
  },
  {
   "cell_type": "code",
   "execution_count": 87,
   "metadata": {},
   "outputs": [
    {
     "data": {
      "text/plain": [
       "array([[29,  7, 74, 73, 51, 75],\n",
       "       [15, 73, 47, 72, 53, 64],\n",
       "       [ 4, 57, 77, 69, 61, 86],\n",
       "       [ 4, 50, 62, 38, 66,  6]])"
      ]
     },
     "execution_count": 87,
     "metadata": {},
     "output_type": "execute_result"
    }
   ],
   "source": [
    "n=np.random.randint(0,100,(4,6))\n",
    "n"
   ]
  },
  {
   "cell_type": "code",
   "execution_count": 88,
   "metadata": {},
   "outputs": [
    {
     "data": {
      "text/plain": [
       "array([[29,  7, 74, 73, 51, 75, 15, 73],\n",
       "       [47, 72, 53, 64,  4, 57, 77, 69],\n",
       "       [61, 86,  4, 50, 62, 38, 66,  6]])"
      ]
     },
     "execution_count": 88,
     "metadata": {},
     "output_type": "execute_result"
    }
   ],
   "source": [
    "n.reshape(3,8)"
   ]
  },
  {
   "cell_type": "markdown",
   "metadata": {},
   "source": [
    "### 排序"
   ]
  },
  {
   "cell_type": "code",
   "execution_count": 90,
   "metadata": {},
   "outputs": [
    {
     "data": {
      "text/plain": [
       "array([[ 4,  7, 47, 38, 51,  6],\n",
       "       [ 4, 50, 62, 69, 53, 64],\n",
       "       [15, 57, 74, 72, 61, 75],\n",
       "       [29, 73, 77, 73, 66, 86]])"
      ]
     },
     "execution_count": 90,
     "metadata": {},
     "output_type": "execute_result"
    }
   ],
   "source": [
    "s=n.copy()\n",
    "s.sort(axis=0)#注意！这个操作直接在原矩阵上进行\n",
    "s"
   ]
  },
  {
   "cell_type": "markdown",
   "metadata": {},
   "source": [
    "#### 升序"
   ]
  },
  {
   "cell_type": "code",
   "execution_count": 91,
   "metadata": {},
   "outputs": [
    {
     "data": {
      "text/plain": [
       "array([[ 7, 29, 51, 73, 74, 75],\n",
       "       [15, 47, 53, 64, 72, 73],\n",
       "       [ 4, 57, 61, 69, 77, 86],\n",
       "       [ 4,  6, 38, 50, 62, 66]])"
      ]
     },
     "execution_count": 91,
     "metadata": {},
     "output_type": "execute_result"
    }
   ],
   "source": [
    "s=n.copy()\n",
    "s.sort(axis=1)#注意！这个操作直接在原矩阵上进行\n",
    "s"
   ]
  },
  {
   "cell_type": "code",
   "execution_count": 94,
   "metadata": {},
   "outputs": [
    {
     "data": {
      "text/plain": [
       "array([[ 7, 29, 51, 73, 74, 75],\n",
       "       [15, 47, 53, 64, 72, 73],\n",
       "       [ 4, 57, 61, 69, 77, 86],\n",
       "       [ 4,  6, 38, 50, 62, 66]])"
      ]
     },
     "execution_count": 94,
     "metadata": {},
     "output_type": "execute_result"
    }
   ],
   "source": [
    "s=n.copy()\n",
    "s.sort()#默认axis=1\n",
    "s"
   ]
  },
  {
   "cell_type": "markdown",
   "metadata": {},
   "source": [
    "### 拼接"
   ]
  },
  {
   "cell_type": "code",
   "execution_count": 97,
   "metadata": {},
   "outputs": [],
   "source": [
    "a=np.array([1,2,3])\n",
    "b=np.array([[0,2,4],[1,3,5]])"
   ]
  },
  {
   "cell_type": "code",
   "execution_count": 101,
   "metadata": {},
   "outputs": [
    {
     "data": {
      "text/plain": [
       "array([[0, 2, 4],\n",
       "       [1, 3, 5],\n",
       "       [0, 2, 4],\n",
       "       [1, 3, 5]])"
      ]
     },
     "execution_count": 101,
     "metadata": {},
     "output_type": "execute_result"
    }
   ],
   "source": [
    "#拼接时所有参数必须相同尺寸\n",
    "np.concatenate([b,b])"
   ]
  },
  {
   "cell_type": "code",
   "execution_count": 102,
   "metadata": {},
   "outputs": [
    {
     "data": {
      "text/plain": [
       "array([1, 2, 3, 1, 2, 3])"
      ]
     },
     "execution_count": 102,
     "metadata": {},
     "output_type": "execute_result"
    }
   ],
   "source": [
    "np.concatenate([a,a])"
   ]
  },
  {
   "cell_type": "code",
   "execution_count": 105,
   "metadata": {},
   "outputs": [
    {
     "data": {
      "text/plain": [
       "array([[0, 2, 4, 0, 2, 4],\n",
       "       [1, 3, 5, 1, 3, 5]])"
      ]
     },
     "execution_count": 105,
     "metadata": {},
     "output_type": "execute_result"
    }
   ],
   "source": [
    "np.concatenate([b,b],axis=1)#从第二个维度拼接"
   ]
  },
  {
   "cell_type": "code",
   "execution_count": null,
   "metadata": {},
   "outputs": [],
   "source": []
  },
  {
   "cell_type": "code",
   "execution_count": null,
   "metadata": {},
   "outputs": [],
   "source": []
  },
  {
   "cell_type": "code",
   "execution_count": null,
   "metadata": {},
   "outputs": [],
   "source": []
  },
  {
   "cell_type": "code",
   "execution_count": 4,
   "metadata": {},
   "outputs": [
    {
     "name": "stdout",
     "output_type": "stream",
     "text": [
      "0\n",
      "xxi[ixxxxxxxxxxxxxxxxxxxxxxxxxxxx]\n",
      "0\n",
      "xxi[ixxxxxxxxxxxxxxxxxxxxxxxxxxxx]\n",
      "0\n",
      "xxi[ixxxxxxxxxxxxxxxxxxxxxxxxxxxx]\n",
      "0\n",
      "xxi[ixxxxxxxxxxxxxxxxxxxxxxxxxxxx]\n",
      "0\n",
      "xxi[ixxxxxxxxxxxxxxxxxxxxxxxxxxxx]\n",
      "0\n",
      "xxi[ixxxxxxxxxxxxxxxxxxxxxxxxxxxx]\n",
      "0\n",
      "xxi[ixxxxxxxxxxxxxxxxxxxxxxxxxxxx]\n",
      "0\n",
      "xxi[ixxxxxxxxxxxxxxxxxxxxxxxxxxxx]\n",
      "0\n",
      "xxi[ixxxxxxxxxxxxxxxxxxxxxxxxxxxx]\n",
      "0\n",
      "xxi[ixxxxxxxxxxxxxxxxxxxxxxxxxxxx]\n",
      "0\n",
      "xxi[ixxxxxxxxxxxxxxxxxxxxxxxxxxxx]\n",
      "0\n",
      "xxi[ixxxxxxxxxxxxxxxxxxxxxxxxxxxx]\n",
      "0\n",
      "xxi[ixxxxxxxxxxxxxxxxxxxxxxxxxxxx]\n",
      "0\n",
      "xxi[ixxxxxxxxxxxxxxxxxxxxxxxxxxxx]\n",
      "0\n",
      "xxi[ixxxxxxxxxxxxxxxxxxxxxxxxxxxx]\n",
      "0\n",
      "xxi[ixxxxxxxxxxxxxxxxxxxxxxxxxxxx]\n",
      "0\n",
      "xxi[ixxxxxxxxxxxxxxxxxxxxxxxxxxxx]\n",
      "0\n",
      "xxi[ixxxxxxxxxxxxxxxxxxxxxxxxxxxx]\n",
      "0\n",
      "xxi[ixxxxxxxxxxxxxxxxxxxxxxxxxxxx]\n",
      "0\n",
      "xxi[ixxxxxxxxxxxxxxxxxxxxxxxxxxxx]\n",
      "0\n",
      "xxi[ixxxxxxxxxxxxxxxxxxxxxxxxxxxx]\n",
      "0\n",
      "xxi[ixxxxxxxxxxxxxxxxxxxxxxxxxxxx]\n",
      "0\n",
      "xxi[ixxxxxxxxxxxxxxxxxxxxxxxxxxxx]\n",
      "0\n",
      "xxi[ixxxxxxxxxxxxxxxxxxxxxxxxxxxx]\n",
      "0\n",
      "xxi[ixxxxxxxxxxxxxxxxxxxxxxxxxxxx]\n",
      "0\n",
      "xxi[ixxxxxxxxxxxxxxxxxxxxxxxxxxxx]\n",
      "0\n",
      "xxi[ixxxxxxxxxxxxxxxxxxxxxxxxxxxx]\n",
      "0\n",
      "xxi[ixxxxxxxxxxxxxxxxxxxxxxxxxxxx]\n",
      "0\n",
      "xxi[ixxxxxxxxxxxxxxxxxxxxxxxxxxxx]\n",
      "0\n",
      "xxi[ixxxxxxxxxxxxxxxxxxxxxxxxxxxx]\n",
      "0\n",
      "xxi[ixxxxxxxxxxxxxxxxxxxxxxxxxxxx]\n",
      "0\n",
      "xxi[ixxxxxxxxxxxxxxxxxxxxxxxxxxxx]\n",
      "0\n",
      "xxi[ixxxxxxxxxxxxxxxxxxxxxxxxxxxx]\n",
      "0\n",
      "xxi[ixxxxxxxxxxxxxxxxxxxxxxxxxxxx]\n",
      "0\n",
      "xxi[ixxxxxxxxxxxxxxxxxxxxxxxxxxxx]\n",
      "0\n",
      "xxi[ixxxxxxxxxxxxxxxxxxxxxxxxxxxx]\n",
      "0\n",
      "xxi[ixxxxxxxxxxxxxxxxxxxxxxxxxxxx]\n",
      "0\n",
      "xxi[ixxxxxxxxxxxxxxxxxxxxxxxxxxxx]\n",
      "0\n",
      "xxi[ixxxxxxxxxxxxxxxxxxxxxxxxxxxx]\n",
      "0\n",
      "xxi[ixxxxxxxxxxxxxxxxxxxxxxxxxxxx]\n",
      "0\n",
      "xxi[ixxxxxxxxxxxxxxxxxxxxxxxxxxxx]\n",
      "0\n",
      "xxi[ixxxxxxxxxxxxxxxxxxxxxxxxxxxx]\n",
      "0\n",
      "xxi[ixxxxxxxxxxxxxxxxxxxxxxxxxxxx]\n",
      "0\n",
      "xxi[ixxxxxxxxxxxxxxxxxxxxxxxxxxxx]\n",
      "0\n",
      "xxi[ixxxxxxxxxxxxxxxxxxxxxxxxxxxx]\n",
      "0\n",
      "xxi[ixxxxxxxxxxxxxxxxxxxxxxxxxxxx]\n",
      "0\n",
      "xxi[ixxxxxxxxxxxxxxxxxxxxxxxxxxxx]\n",
      "0\n",
      "xxi[ixxxxxxxxxxxxxxxxxxxxxxxxxxxx]\n",
      "0\n",
      "xxi[ixxxxxxxxxxxxxxxxxxxxxxxxxxxx]\n",
      "0\n",
      "xxi[ixxxxxxxxxxxxxxxxxxxxxxxxxxxx]\n",
      "0\n",
      "xxi[ixxxxxxxxxxxxxxxxxxxxxxxxxxxx]\n",
      "0\n",
      "xxi[ixxxxxxxxxxxxxxxxxxxxxxxxxxxx]\n",
      "0\n",
      "xxi[ixxxxxxxxxxxxxxxxxxxxxxxxxxxx]\n",
      "0\n",
      "xxi[ixxxxxxxxxxxxxxxxxxxxxxxxxxxx]\n",
      "0\n",
      "xxi[ixxxxxxxxxxxxxxxxxxxxxxxxxxxx]\n",
      "0\n",
      "xxi[ixxxxxxxxxxxxxxxxxxxxxxxxxxxx]\n",
      "0\n",
      "xxi[ixxxxxxxxxxxxxxxxxxxxxxxxxxxx]\n",
      "0\n",
      "xxi[ixxxxxxxxxxxxxxxxxxxxxxxxxxxx]\n",
      "0\n",
      "xxi[ixxxxxxxxxxxxxxxxxxxxxxxxxxxx]\n",
      "0\n",
      "xxi[ixxxxxxxxxxxxxxxxxxxxxxxxxxxx]\n"
     ]
    }
   ],
   "source": [
    "import numpy as np\n",
    "xxi=np.zeros((4,5,3),np.uint8)\n",
    "for i in range(0,len(xxi)):\n",
    "    for j in range(0,len(xxi[i])):\n",
    "        for k in range(0,len(xxi[i,j])):\n",
    "            print(xxi[i,j,k])\n",
    "            print('xxi[ixxxxxxxxxxxxxxxxxxxxxxxxxxxx]')\n",
    "        \n"
   ]
  },
  {
   "cell_type": "code",
   "execution_count": null,
   "metadata": {},
   "outputs": [],
   "source": []
  }
 ],
 "metadata": {
  "kernelspec": {
   "display_name": "Python 3",
   "language": "python",
   "name": "python3"
  },
  "language_info": {
   "codemirror_mode": {
    "name": "ipython",
    "version": 3
   },
   "file_extension": ".py",
   "mimetype": "text/x-python",
   "name": "python",
   "nbconvert_exporter": "python",
   "pygments_lexer": "ipython3",
   "version": "3.7.3"
  }
 },
 "nbformat": 4,
 "nbformat_minor": 2
}
