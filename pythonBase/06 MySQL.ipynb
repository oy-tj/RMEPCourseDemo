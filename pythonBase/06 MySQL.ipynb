{
 "cells": [
  {
   "cell_type": "markdown",
   "metadata": {},
   "source": [
    "### 配置Anaconda国内源\n",
    "- 修改C:\\Users\\username下的.condarc文件，修改为以下内容"
   ]
  },
  {
   "cell_type": "raw",
   "metadata": {},
   "source": [
    "ssl_verify: true\n",
    "channels:\n",
    "  - https://mirrors.ustc.edu.cn/anaconda/pkgs/main/\n",
    "  - https://mirrors.ustc.edu.cn/anaconda/pkgs/free/\n",
    "  - https://mirrors.ustc.edu.cn/anaconda/cloud/conda-forge/\n",
    "  - https://mirrors.ustc.edu.cn/anaconda/cloud/msys2/\n",
    "  - https://mirrors.ustc.edu.cn/anaconda/cloud/bioconda/\n",
    "  - https://mirrors.ustc.edu.cn/anaconda/cloud/menpo/\n",
    "\n",
    "  - https://mirrors.tuna.tsinghua.edu.cn/anaconda/pkgs/free/\n",
    "  - https://mirrors.tuna.tsinghua.edu.cn/anaconda/cloud/conda-forge\n",
    "  - https://mirrors.tuna.tsinghua.edu.cn/anaconda/cloud/msys2/\n",
    "  - https://mirrors.tuna.tsinghua.edu.cn/anaconda/cloud/pytorch/\n",
    "\n",
    "show_channel_urls: true"
   ]
  },
  {
   "cell_type": "markdown",
   "metadata": {},
   "source": [
    "#### 安装mySQL库"
   ]
  },
  {
   "cell_type": "raw",
   "metadata": {},
   "source": [
    "#安装PyMySQL\n",
    "conda install pymysql\n",
    "#或\n",
    "pip install pymysql"
   ]
  },
  {
   "cell_type": "markdown",
   "metadata": {},
   "source": [
    "#### 引入库"
   ]
  },
  {
   "cell_type": "code",
   "execution_count": 3,
   "metadata": {
    "scrolled": true
   },
   "outputs": [],
   "source": [
    "import pymysql"
   ]
  },
  {
   "cell_type": "markdown",
   "metadata": {},
   "source": [
    "#### 连接字符串"
   ]
  },
  {
   "cell_type": "code",
   "execution_count": 59,
   "metadata": {},
   "outputs": [],
   "source": [
    "DB_INFO={\n",
    "    'host':'127.0.0.1',\n",
    "    'database':'testdb',   #数据库名，建立新库时确定\n",
    "    'user':'root',         #数据库用户\n",
    "    'password':'123f456j', #数据库密码\n",
    "    'charset':'utf8'       #字符类型（显示中文时使用）\n",
    "}\n",
    "db=pymysql.connect(**DB_INFO)\n",
    "#等价于\n",
    "#db=pymysql.connect(host='localhost',user='root',password='root',db='123f456j'，charset='utf8')\n"
   ]
  },
  {
   "cell_type": "markdown",
   "metadata": {},
   "source": [
    "#### 新建'游标'用于发送、接收SQL语句"
   ]
  },
  {
   "cell_type": "code",
   "execution_count": 64,
   "metadata": {},
   "outputs": [],
   "source": [
    "cursor=db.cursor()"
   ]
  },
  {
   "cell_type": "markdown",
   "metadata": {},
   "source": [
    "#### 新建数据表"
   ]
  },
  {
   "cell_type": "code",
   "execution_count": 67,
   "metadata": {},
   "outputs": [],
   "source": [
    "#建立学生表\n",
    "sql = \"\"\"\n",
    "        CREATE TABLE IF NOT EXISTS student(\n",
    "        id INT AUTO_INCREMENT PRIMARY KEY,\n",
    "        name char(40),\n",
    "        age int,\n",
    "        address char(160)\n",
    "        );\n",
    "    \"\"\"\n",
    "\n",
    "cursor=db.cursor()\n",
    "cursor.execute(sql)\n",
    "db.commit()"
   ]
  },
  {
   "cell_type": "code",
   "execution_count": 68,
   "metadata": {},
   "outputs": [],
   "source": [
    "#建立分数表\n",
    "sql = \"\"\"\n",
    "        CREATE TABLE IF NOT EXISTS score(\n",
    "        id INT AUTO_INCREMENT PRIMARY KEY,\n",
    "        stu_id int,\n",
    "        score int\n",
    "        );\n",
    "    \"\"\"\n",
    "\n",
    "cursor=db.cursor()\n",
    "cursor.execute(sql)\n",
    "db.commit()"
   ]
  },
  {
   "cell_type": "markdown",
   "metadata": {},
   "source": [
    "#### 插入数据"
   ]
  },
  {
   "cell_type": "code",
   "execution_count": 70,
   "metadata": {},
   "outputs": [],
   "source": [
    "#插入学生数据\n",
    "def stuInsert(name,age,addr='厦门大学翔安校区'):\n",
    "    sql = \"INSERT INTO student (name,age,address) VALUES (%s , %s , %s)\"\n",
    "    val = (name, age,addr)\n",
    "    cursor=db.cursor()\n",
    "    cursor.execute(sql,val)\n",
    "    db.commit()\n",
    "\n",
    "stuInsert(\"小赵\", '18')\n",
    "stuInsert(\"小王\", '19')\n",
    "stuInsert(\"小李\", '17')    \n",
    "stuInsert(\"小张\", '18',\"厦门大学思明校区\")"
   ]
  },
  {
   "cell_type": "code",
   "execution_count": 71,
   "metadata": {},
   "outputs": [],
   "source": [
    "#插入分数数据\n",
    "def scoreInsert(stu_id,score):\n",
    "    sql = \"INSERT INTO score (stu_id,score) VALUES (%s , %s)\"\n",
    "    val = (stu_id, score)\n",
    "    cursor=db.cursor()\n",
    "    cursor.execute(sql,val)\n",
    "    db.commit()\n",
    "\n",
    "scoreInsert(\"1\", '98')\n",
    "scoreInsert(\"2\", '84')\n",
    "scoreInsert(\"3\", '54')    \n",
    "scoreInsert(\"4\", '24')\n",
    "    \n"
   ]
  },
  {
   "cell_type": "markdown",
   "metadata": {},
   "source": [
    "#### select"
   ]
  },
  {
   "cell_type": "code",
   "execution_count": 75,
   "metadata": {},
   "outputs": [
    {
     "name": "stdout",
     "output_type": "stream",
     "text": [
      "SELECT * FROM student WHERE address='厦门大学翔安校区' LIMIT 2\n",
      "(1, '小赵', 18, '厦门大学翔安校区')\n",
      "(2, '小王', 20, '厦门大学翔安校区')\n"
     ]
    }
   ],
   "source": [
    "#按条件检索学生\n",
    "def selStu(where='',limit=''):\n",
    "    sql = \"SELECT * FROM student\"\n",
    "    if where:\n",
    "        sql+=' WHERE '+where\n",
    "    if limit:\n",
    "        sql+=' LIMIT '+limit\n",
    "    cursor=db.cursor()\n",
    "    cursor.execute(sql)\n",
    "    print(sql)\n",
    "    #db.commit()\n",
    "    students=cursor.fetchall()\n",
    "    return students\n",
    "\n",
    "students=selStu(where=\"address='厦门大学翔安校区'\",limit=\"2\")\n",
    "for stu in students:\n",
    "    print(stu)"
   ]
  },
  {
   "cell_type": "markdown",
   "metadata": {},
   "source": [
    "#### 删除"
   ]
  },
  {
   "cell_type": "code",
   "execution_count": 73,
   "metadata": {},
   "outputs": [
    {
     "name": "stdout",
     "output_type": "stream",
     "text": [
      "(1, '小赵', 18, '厦门大学翔安校区')\n",
      "(2, '小王', 19, '厦门大学翔安校区')\n",
      "(4, '小张', 18, '厦门大学思明校区')\n"
     ]
    }
   ],
   "source": [
    "sql = \"DELETE FROM student WHERE age ='17'\"\n",
    "cursor=db.cursor()\n",
    "cursor.execute(sql)\n",
    "db.commit()\n",
    "\n",
    "students=selStu()\n",
    "for stu in students:\n",
    "    print(stu)\n",
    "#把刚删除的数据加回去    \n",
    "stuInsert(\"小李\", '17')  "
   ]
  },
  {
   "cell_type": "markdown",
   "metadata": {},
   "source": [
    "#### 更新"
   ]
  },
  {
   "cell_type": "code",
   "execution_count": 74,
   "metadata": {},
   "outputs": [
    {
     "name": "stdout",
     "output_type": "stream",
     "text": [
      "(1, '小赵', 18, '厦门大学翔安校区')\n",
      "(2, '小王', 20, '厦门大学翔安校区')\n",
      "(4, '小张', 18, '厦门大学思明校区')\n",
      "(5, '小李', 17, '厦门大学翔安校区')\n"
     ]
    }
   ],
   "source": [
    "sql = \"UPDATE student SET age='20' WHERE name ='小王'\"\n",
    "cursor=db.cursor()\n",
    "cursor.execute(sql)\n",
    "db.commit()\n",
    "\n",
    "students=selStu()\n",
    "for stu in students:\n",
    "    print(stu)"
   ]
  }
 ],
 "metadata": {
  "kernelspec": {
   "display_name": "Python 3",
   "language": "python",
   "name": "python3"
  },
  "language_info": {
   "codemirror_mode": {
    "name": "ipython",
    "version": 3
   },
   "file_extension": ".py",
   "mimetype": "text/x-python",
   "name": "python",
   "nbconvert_exporter": "python",
   "pygments_lexer": "ipython3",
   "version": "3.7.3"
  }
 },
 "nbformat": 4,
 "nbformat_minor": 2
}
