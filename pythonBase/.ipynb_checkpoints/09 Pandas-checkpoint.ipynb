{
 "cells": [
  {
   "cell_type": "markdown",
   "metadata": {},
   "source": [
    "# pandas"
   ]
  },
  {
   "cell_type": "markdown",
   "metadata": {},
   "source": [
    "### CSV格式\n",
    "- 逗号分隔符的表格"
   ]
  },
  {
   "cell_type": "code",
   "execution_count": 3,
   "metadata": {},
   "outputs": [],
   "source": [
    "import pandas as pd"
   ]
  },
  {
   "cell_type": "code",
   "execution_count": 4,
   "metadata": {},
   "outputs": [
    {
     "data": {
      "text/html": [
       "<div>\n",
       "<style scoped>\n",
       "    .dataframe tbody tr th:only-of-type {\n",
       "        vertical-align: middle;\n",
       "    }\n",
       "\n",
       "    .dataframe tbody tr th {\n",
       "        vertical-align: top;\n",
       "    }\n",
       "\n",
       "    .dataframe thead th {\n",
       "        text-align: right;\n",
       "    }\n",
       "</style>\n",
       "<table border=\"1\" class=\"dataframe\">\n",
       "  <thead>\n",
       "    <tr style=\"text-align: right;\">\n",
       "      <th></th>\n",
       "      <th>序号</th>\n",
       "      <th>姓名</th>\n",
       "      <th>性别</th>\n",
       "      <th>语文</th>\n",
       "      <th>数学</th>\n",
       "      <th>英语</th>\n",
       "      <th>物理</th>\n",
       "      <th>化学</th>\n",
       "      <th>生物</th>\n",
       "    </tr>\n",
       "  </thead>\n",
       "  <tbody>\n",
       "    <tr>\n",
       "      <th>0</th>\n",
       "      <td>1</td>\n",
       "      <td>阿热发提·依米提</td>\n",
       "      <td>男</td>\n",
       "      <td>60</td>\n",
       "      <td>84</td>\n",
       "      <td>85</td>\n",
       "      <td>61</td>\n",
       "      <td>35</td>\n",
       "      <td>49</td>\n",
       "    </tr>\n",
       "    <tr>\n",
       "      <th>1</th>\n",
       "      <td>2</td>\n",
       "      <td>毕云策</td>\n",
       "      <td>女</td>\n",
       "      <td>89</td>\n",
       "      <td>37</td>\n",
       "      <td>64</td>\n",
       "      <td>20</td>\n",
       "      <td>90</td>\n",
       "      <td>53</td>\n",
       "    </tr>\n",
       "    <tr>\n",
       "      <th>2</th>\n",
       "      <td>3</td>\n",
       "      <td>林心怡</td>\n",
       "      <td>男</td>\n",
       "      <td>79</td>\n",
       "      <td>67</td>\n",
       "      <td>100</td>\n",
       "      <td>42</td>\n",
       "      <td>62</td>\n",
       "      <td>30</td>\n",
       "    </tr>\n",
       "    <tr>\n",
       "      <th>3</th>\n",
       "      <td>4</td>\n",
       "      <td>刘维</td>\n",
       "      <td>男</td>\n",
       "      <td>84</td>\n",
       "      <td>51</td>\n",
       "      <td>82</td>\n",
       "      <td>70</td>\n",
       "      <td>75</td>\n",
       "      <td>81</td>\n",
       "    </tr>\n",
       "    <tr>\n",
       "      <th>4</th>\n",
       "      <td>5</td>\n",
       "      <td>任吉林</td>\n",
       "      <td>女</td>\n",
       "      <td>69</td>\n",
       "      <td>74</td>\n",
       "      <td>50</td>\n",
       "      <td>84</td>\n",
       "      <td>72</td>\n",
       "      <td>52</td>\n",
       "    </tr>\n",
       "  </tbody>\n",
       "</table>\n",
       "</div>"
      ],
      "text/plain": [
       "   序号        姓名 性别  语文  数学   英语  物理  化学  生物\n",
       "0   1  阿热发提·依米提  男  60  84   85  61  35  49\n",
       "1   2       毕云策  女  89  37   64  20  90  53\n",
       "2   3       林心怡  男  79  67  100  42  62  30\n",
       "3   4        刘维  男  84  51   82  70  75  81\n",
       "4   5       任吉林  女  69  74   50  84  72  52"
      ]
     },
     "execution_count": 4,
     "metadata": {},
     "output_type": "execute_result"
    }
   ],
   "source": [
    "#打开csv\n",
    "df=pd.read_csv('09 exp.csv')\n",
    "df.head(5)"
   ]
  },
  {
   "cell_type": "code",
   "execution_count": 102,
   "metadata": {},
   "outputs": [
    {
     "data": {
      "text/plain": [
       "pandas.core.frame.DataFrame"
      ]
     },
     "execution_count": 102,
     "metadata": {},
     "output_type": "execute_result"
    }
   ],
   "source": [
    "#数据类型\n",
    "type(df)"
   ]
  },
  {
   "cell_type": "markdown",
   "metadata": {},
   "source": [
    "### DataFrame"
   ]
  },
  {
   "cell_type": "code",
   "execution_count": 103,
   "metadata": {},
   "outputs": [
    {
     "data": {
      "text/plain": [
       "Index(['序号', '姓名', '性别', '语文', '数学', '英语', '物理', '化学', '生物'], dtype='object')"
      ]
     },
     "execution_count": 103,
     "metadata": {},
     "output_type": "execute_result"
    }
   ],
   "source": [
    "#列名\n",
    "df.columns"
   ]
  },
  {
   "cell_type": "code",
   "execution_count": 104,
   "metadata": {},
   "outputs": [
    {
     "data": {
      "text/plain": [
       "RangeIndex(start=0, stop=35, step=1)"
      ]
     },
     "execution_count": 104,
     "metadata": {},
     "output_type": "execute_result"
    }
   ],
   "source": [
    "#索引\n",
    "df.index"
   ]
  },
  {
   "cell_type": "code",
   "execution_count": 105,
   "metadata": {},
   "outputs": [
    {
     "data": {
      "text/plain": [
       "序号           1\n",
       "姓名    阿热发提·依米提\n",
       "性别           男\n",
       "语文          60\n",
       "数学          84\n",
       "英语          85\n",
       "物理          61\n",
       "化学          35\n",
       "生物          49\n",
       "Name: 0, dtype: object"
      ]
     },
     "execution_count": 105,
     "metadata": {},
     "output_type": "execute_result"
    }
   ],
   "source": [
    "#访问数据\n",
    "df.loc[0]"
   ]
  },
  {
   "cell_type": "markdown",
   "metadata": {},
   "source": [
    "### 筛选"
   ]
  },
  {
   "cell_type": "code",
   "execution_count": 106,
   "metadata": {},
   "outputs": [
    {
     "data": {
      "text/plain": [
       "0      True\n",
       "1     False\n",
       "2     False\n",
       "3     False\n",
       "4     False\n",
       "5     False\n",
       "6     False\n",
       "7     False\n",
       "8      True\n",
       "9     False\n",
       "10    False\n",
       "11    False\n",
       "12    False\n",
       "13    False\n",
       "14    False\n",
       "15    False\n",
       "16    False\n",
       "17    False\n",
       "18     True\n",
       "19     True\n",
       "20    False\n",
       "21     True\n",
       "22    False\n",
       "23    False\n",
       "24    False\n",
       "25     True\n",
       "26    False\n",
       "27     True\n",
       "28    False\n",
       "29    False\n",
       "30    False\n",
       "31    False\n",
       "32     True\n",
       "33    False\n",
       "34    False\n",
       "Name: 数学, dtype: bool"
      ]
     },
     "execution_count": 106,
     "metadata": {},
     "output_type": "execute_result"
    }
   ],
   "source": [
    "#筛选\n",
    "df.数学>80"
   ]
  },
  {
   "cell_type": "code",
   "execution_count": 107,
   "metadata": {},
   "outputs": [
    {
     "data": {
      "text/html": [
       "<div>\n",
       "<style scoped>\n",
       "    .dataframe tbody tr th:only-of-type {\n",
       "        vertical-align: middle;\n",
       "    }\n",
       "\n",
       "    .dataframe tbody tr th {\n",
       "        vertical-align: top;\n",
       "    }\n",
       "\n",
       "    .dataframe thead th {\n",
       "        text-align: right;\n",
       "    }\n",
       "</style>\n",
       "<table border=\"1\" class=\"dataframe\">\n",
       "  <thead>\n",
       "    <tr style=\"text-align: right;\">\n",
       "      <th></th>\n",
       "      <th>序号</th>\n",
       "      <th>姓名</th>\n",
       "      <th>性别</th>\n",
       "      <th>语文</th>\n",
       "      <th>数学</th>\n",
       "      <th>英语</th>\n",
       "      <th>物理</th>\n",
       "      <th>化学</th>\n",
       "      <th>生物</th>\n",
       "    </tr>\n",
       "  </thead>\n",
       "  <tbody>\n",
       "    <tr>\n",
       "      <th>0</th>\n",
       "      <td>1</td>\n",
       "      <td>阿热发提·依米提</td>\n",
       "      <td>男</td>\n",
       "      <td>60</td>\n",
       "      <td>84</td>\n",
       "      <td>85</td>\n",
       "      <td>61</td>\n",
       "      <td>35</td>\n",
       "      <td>49</td>\n",
       "    </tr>\n",
       "    <tr>\n",
       "      <th>8</th>\n",
       "      <td>9</td>\n",
       "      <td>张晨茜</td>\n",
       "      <td>男</td>\n",
       "      <td>38</td>\n",
       "      <td>93</td>\n",
       "      <td>71</td>\n",
       "      <td>44</td>\n",
       "      <td>67</td>\n",
       "      <td>46</td>\n",
       "    </tr>\n",
       "    <tr>\n",
       "      <th>18</th>\n",
       "      <td>19</td>\n",
       "      <td>沈斯涵</td>\n",
       "      <td>女</td>\n",
       "      <td>41</td>\n",
       "      <td>89</td>\n",
       "      <td>84</td>\n",
       "      <td>64</td>\n",
       "      <td>57</td>\n",
       "      <td>73</td>\n",
       "    </tr>\n",
       "    <tr>\n",
       "      <th>19</th>\n",
       "      <td>20</td>\n",
       "      <td>孙小棠</td>\n",
       "      <td>男</td>\n",
       "      <td>84</td>\n",
       "      <td>98</td>\n",
       "      <td>66</td>\n",
       "      <td>86</td>\n",
       "      <td>88</td>\n",
       "      <td>51</td>\n",
       "    </tr>\n",
       "    <tr>\n",
       "      <th>21</th>\n",
       "      <td>22</td>\n",
       "      <td>田凡冉</td>\n",
       "      <td>男</td>\n",
       "      <td>69</td>\n",
       "      <td>97</td>\n",
       "      <td>85</td>\n",
       "      <td>30</td>\n",
       "      <td>39</td>\n",
       "      <td>55</td>\n",
       "    </tr>\n",
       "    <tr>\n",
       "      <th>25</th>\n",
       "      <td>26</td>\n",
       "      <td>陈少媛</td>\n",
       "      <td>女</td>\n",
       "      <td>35</td>\n",
       "      <td>93</td>\n",
       "      <td>30</td>\n",
       "      <td>47</td>\n",
       "      <td>59</td>\n",
       "      <td>99</td>\n",
       "    </tr>\n",
       "    <tr>\n",
       "      <th>27</th>\n",
       "      <td>28</td>\n",
       "      <td>陈维严</td>\n",
       "      <td>男</td>\n",
       "      <td>35</td>\n",
       "      <td>83</td>\n",
       "      <td>45</td>\n",
       "      <td>83</td>\n",
       "      <td>68</td>\n",
       "      <td>29</td>\n",
       "    </tr>\n",
       "    <tr>\n",
       "      <th>32</th>\n",
       "      <td>33</td>\n",
       "      <td>何心云</td>\n",
       "      <td>男</td>\n",
       "      <td>34</td>\n",
       "      <td>97</td>\n",
       "      <td>81</td>\n",
       "      <td>72</td>\n",
       "      <td>35</td>\n",
       "      <td>88</td>\n",
       "    </tr>\n",
       "  </tbody>\n",
       "</table>\n",
       "</div>"
      ],
      "text/plain": [
       "    序号        姓名 性别  语文  数学  英语  物理  化学  生物\n",
       "0    1  阿热发提·依米提  男  60  84  85  61  35  49\n",
       "8    9       张晨茜  男  38  93  71  44  67  46\n",
       "18  19       沈斯涵  女  41  89  84  64  57  73\n",
       "19  20       孙小棠  男  84  98  66  86  88  51\n",
       "21  22       田凡冉  男  69  97  85  30  39  55\n",
       "25  26       陈少媛  女  35  93  30  47  59  99\n",
       "27  28       陈维严  男  35  83  45  83  68  29\n",
       "32  33       何心云  男  34  97  81  72  35  88"
      ]
     },
     "execution_count": 107,
     "metadata": {},
     "output_type": "execute_result"
    }
   ],
   "source": [
    "#筛选\n",
    "df[df.数学>80]"
   ]
  },
  {
   "cell_type": "code",
   "execution_count": 108,
   "metadata": {},
   "outputs": [
    {
     "data": {
      "text/plain": [
       "0     False\n",
       "1     False\n",
       "2      True\n",
       "3     False\n",
       "4     False\n",
       "5     False\n",
       "6     False\n",
       "7     False\n",
       "8     False\n",
       "9     False\n",
       "10    False\n",
       "11    False\n",
       "12    False\n",
       "13    False\n",
       "14    False\n",
       "15    False\n",
       "16    False\n",
       "17    False\n",
       "18    False\n",
       "19     True\n",
       "20    False\n",
       "21     True\n",
       "22    False\n",
       "23     True\n",
       "24    False\n",
       "25    False\n",
       "26    False\n",
       "27    False\n",
       "28    False\n",
       "29    False\n",
       "30    False\n",
       "31    False\n",
       "32    False\n",
       "33    False\n",
       "34    False\n",
       "dtype: bool"
      ]
     },
     "execution_count": 108,
     "metadata": {},
     "output_type": "execute_result"
    }
   ],
   "source": [
    "#复杂筛选\n",
    "(df.数学>60) &(df.语文>60)& (df.英语>60)"
   ]
  },
  {
   "cell_type": "code",
   "execution_count": 109,
   "metadata": {},
   "outputs": [
    {
     "data": {
      "text/html": [
       "<div>\n",
       "<style scoped>\n",
       "    .dataframe tbody tr th:only-of-type {\n",
       "        vertical-align: middle;\n",
       "    }\n",
       "\n",
       "    .dataframe tbody tr th {\n",
       "        vertical-align: top;\n",
       "    }\n",
       "\n",
       "    .dataframe thead th {\n",
       "        text-align: right;\n",
       "    }\n",
       "</style>\n",
       "<table border=\"1\" class=\"dataframe\">\n",
       "  <thead>\n",
       "    <tr style=\"text-align: right;\">\n",
       "      <th></th>\n",
       "      <th>序号</th>\n",
       "      <th>姓名</th>\n",
       "      <th>性别</th>\n",
       "      <th>语文</th>\n",
       "      <th>数学</th>\n",
       "      <th>英语</th>\n",
       "      <th>物理</th>\n",
       "      <th>化学</th>\n",
       "      <th>生物</th>\n",
       "    </tr>\n",
       "  </thead>\n",
       "  <tbody>\n",
       "    <tr>\n",
       "      <th>2</th>\n",
       "      <td>3</td>\n",
       "      <td>林心怡</td>\n",
       "      <td>男</td>\n",
       "      <td>79</td>\n",
       "      <td>67</td>\n",
       "      <td>100</td>\n",
       "      <td>42</td>\n",
       "      <td>62</td>\n",
       "      <td>30</td>\n",
       "    </tr>\n",
       "    <tr>\n",
       "      <th>19</th>\n",
       "      <td>20</td>\n",
       "      <td>孙小棠</td>\n",
       "      <td>男</td>\n",
       "      <td>84</td>\n",
       "      <td>98</td>\n",
       "      <td>66</td>\n",
       "      <td>86</td>\n",
       "      <td>88</td>\n",
       "      <td>51</td>\n",
       "    </tr>\n",
       "    <tr>\n",
       "      <th>21</th>\n",
       "      <td>22</td>\n",
       "      <td>田凡冉</td>\n",
       "      <td>男</td>\n",
       "      <td>69</td>\n",
       "      <td>97</td>\n",
       "      <td>85</td>\n",
       "      <td>30</td>\n",
       "      <td>39</td>\n",
       "      <td>55</td>\n",
       "    </tr>\n",
       "    <tr>\n",
       "      <th>23</th>\n",
       "      <td>24</td>\n",
       "      <td>邹承成</td>\n",
       "      <td>女</td>\n",
       "      <td>79</td>\n",
       "      <td>74</td>\n",
       "      <td>84</td>\n",
       "      <td>66</td>\n",
       "      <td>77</td>\n",
       "      <td>90</td>\n",
       "    </tr>\n",
       "  </tbody>\n",
       "</table>\n",
       "</div>"
      ],
      "text/plain": [
       "    序号   姓名 性别  语文  数学   英语  物理  化学  生物\n",
       "2    3  林心怡  男  79  67  100  42  62  30\n",
       "19  20  孙小棠  男  84  98   66  86  88  51\n",
       "21  22  田凡冉  男  69  97   85  30  39  55\n",
       "23  24  邹承成  女  79  74   84  66  77  90"
      ]
     },
     "execution_count": 109,
     "metadata": {},
     "output_type": "execute_result"
    }
   ],
   "source": [
    "#复杂筛选\n",
    "df[(df.数学>60) &(df.语文>60)& (df.英语>60)]"
   ]
  },
  {
   "cell_type": "markdown",
   "metadata": {},
   "source": [
    "### 排序"
   ]
  },
  {
   "cell_type": "code",
   "execution_count": 110,
   "metadata": {},
   "outputs": [
    {
     "data": {
      "text/html": [
       "<div>\n",
       "<style scoped>\n",
       "    .dataframe tbody tr th:only-of-type {\n",
       "        vertical-align: middle;\n",
       "    }\n",
       "\n",
       "    .dataframe tbody tr th {\n",
       "        vertical-align: top;\n",
       "    }\n",
       "\n",
       "    .dataframe thead th {\n",
       "        text-align: right;\n",
       "    }\n",
       "</style>\n",
       "<table border=\"1\" class=\"dataframe\">\n",
       "  <thead>\n",
       "    <tr style=\"text-align: right;\">\n",
       "      <th></th>\n",
       "      <th>序号</th>\n",
       "      <th>姓名</th>\n",
       "      <th>性别</th>\n",
       "      <th>语文</th>\n",
       "      <th>数学</th>\n",
       "      <th>英语</th>\n",
       "      <th>物理</th>\n",
       "      <th>化学</th>\n",
       "      <th>生物</th>\n",
       "    </tr>\n",
       "  </thead>\n",
       "  <tbody>\n",
       "    <tr>\n",
       "      <th>34</th>\n",
       "      <td>35</td>\n",
       "      <td>侯翔宇</td>\n",
       "      <td>男</td>\n",
       "      <td>79</td>\n",
       "      <td>27</td>\n",
       "      <td>97</td>\n",
       "      <td>83</td>\n",
       "      <td>39</td>\n",
       "      <td>34</td>\n",
       "    </tr>\n",
       "    <tr>\n",
       "      <th>15</th>\n",
       "      <td>16</td>\n",
       "      <td>林紫韬</td>\n",
       "      <td>女</td>\n",
       "      <td>59</td>\n",
       "      <td>30</td>\n",
       "      <td>78</td>\n",
       "      <td>35</td>\n",
       "      <td>47</td>\n",
       "      <td>22</td>\n",
       "    </tr>\n",
       "    <tr>\n",
       "      <th>22</th>\n",
       "      <td>23</td>\n",
       "      <td>叶小杰</td>\n",
       "      <td>男</td>\n",
       "      <td>62</td>\n",
       "      <td>31</td>\n",
       "      <td>96</td>\n",
       "      <td>77</td>\n",
       "      <td>61</td>\n",
       "      <td>20</td>\n",
       "    </tr>\n",
       "    <tr>\n",
       "      <th>14</th>\n",
       "      <td>15</td>\n",
       "      <td>林心怡</td>\n",
       "      <td>女</td>\n",
       "      <td>67</td>\n",
       "      <td>33</td>\n",
       "      <td>84</td>\n",
       "      <td>80</td>\n",
       "      <td>20</td>\n",
       "      <td>64</td>\n",
       "    </tr>\n",
       "    <tr>\n",
       "      <th>1</th>\n",
       "      <td>2</td>\n",
       "      <td>毕云策</td>\n",
       "      <td>女</td>\n",
       "      <td>89</td>\n",
       "      <td>37</td>\n",
       "      <td>64</td>\n",
       "      <td>20</td>\n",
       "      <td>90</td>\n",
       "      <td>53</td>\n",
       "    </tr>\n",
       "  </tbody>\n",
       "</table>\n",
       "</div>"
      ],
      "text/plain": [
       "    序号   姓名 性别  语文  数学  英语  物理  化学  生物\n",
       "34  35  侯翔宇  男  79  27  97  83  39  34\n",
       "15  16  林紫韬  女  59  30  78  35  47  22\n",
       "22  23  叶小杰  男  62  31  96  77  61  20\n",
       "14  15  林心怡  女  67  33  84  80  20  64\n",
       "1    2  毕云策  女  89  37  64  20  90  53"
      ]
     },
     "execution_count": 110,
     "metadata": {},
     "output_type": "execute_result"
    }
   ],
   "source": [
    "#简单排序\n",
    "df.sort_values(['数学']).head(5)"
   ]
  },
  {
   "cell_type": "code",
   "execution_count": 111,
   "metadata": {},
   "outputs": [
    {
     "data": {
      "text/html": [
       "<div>\n",
       "<style scoped>\n",
       "    .dataframe tbody tr th:only-of-type {\n",
       "        vertical-align: middle;\n",
       "    }\n",
       "\n",
       "    .dataframe tbody tr th {\n",
       "        vertical-align: top;\n",
       "    }\n",
       "\n",
       "    .dataframe thead th {\n",
       "        text-align: right;\n",
       "    }\n",
       "</style>\n",
       "<table border=\"1\" class=\"dataframe\">\n",
       "  <thead>\n",
       "    <tr style=\"text-align: right;\">\n",
       "      <th></th>\n",
       "      <th>序号</th>\n",
       "      <th>姓名</th>\n",
       "      <th>性别</th>\n",
       "      <th>语文</th>\n",
       "      <th>数学</th>\n",
       "      <th>英语</th>\n",
       "      <th>物理</th>\n",
       "      <th>化学</th>\n",
       "      <th>生物</th>\n",
       "    </tr>\n",
       "  </thead>\n",
       "  <tbody>\n",
       "    <tr>\n",
       "      <th>28</th>\n",
       "      <td>29</td>\n",
       "      <td>陈咏媛</td>\n",
       "      <td>男</td>\n",
       "      <td>24</td>\n",
       "      <td>47</td>\n",
       "      <td>78</td>\n",
       "      <td>71</td>\n",
       "      <td>69</td>\n",
       "      <td>45</td>\n",
       "    </tr>\n",
       "    <tr>\n",
       "      <th>24</th>\n",
       "      <td>25</td>\n",
       "      <td>蔡振宇</td>\n",
       "      <td>女</td>\n",
       "      <td>27</td>\n",
       "      <td>42</td>\n",
       "      <td>65</td>\n",
       "      <td>89</td>\n",
       "      <td>24</td>\n",
       "      <td>85</td>\n",
       "    </tr>\n",
       "    <tr>\n",
       "      <th>32</th>\n",
       "      <td>33</td>\n",
       "      <td>何心云</td>\n",
       "      <td>男</td>\n",
       "      <td>34</td>\n",
       "      <td>97</td>\n",
       "      <td>81</td>\n",
       "      <td>72</td>\n",
       "      <td>35</td>\n",
       "      <td>88</td>\n",
       "    </tr>\n",
       "    <tr>\n",
       "      <th>9</th>\n",
       "      <td>10</td>\n",
       "      <td>张如桢</td>\n",
       "      <td>女</td>\n",
       "      <td>35</td>\n",
       "      <td>76</td>\n",
       "      <td>33</td>\n",
       "      <td>55</td>\n",
       "      <td>74</td>\n",
       "      <td>72</td>\n",
       "    </tr>\n",
       "    <tr>\n",
       "      <th>27</th>\n",
       "      <td>28</td>\n",
       "      <td>陈维严</td>\n",
       "      <td>男</td>\n",
       "      <td>35</td>\n",
       "      <td>83</td>\n",
       "      <td>45</td>\n",
       "      <td>83</td>\n",
       "      <td>68</td>\n",
       "      <td>29</td>\n",
       "    </tr>\n",
       "  </tbody>\n",
       "</table>\n",
       "</div>"
      ],
      "text/plain": [
       "    序号   姓名 性别  语文  数学  英语  物理  化学  生物\n",
       "28  29  陈咏媛  男  24  47  78  71  69  45\n",
       "24  25  蔡振宇  女  27  42  65  89  24  85\n",
       "32  33  何心云  男  34  97  81  72  35  88\n",
       "9   10  张如桢  女  35  76  33  55  74  72\n",
       "27  28  陈维严  男  35  83  45  83  68  29"
      ]
     },
     "execution_count": 111,
     "metadata": {},
     "output_type": "execute_result"
    }
   ],
   "source": [
    "#简单排序\n",
    "df.sort_values(['语文','数学','英语']).head(5)"
   ]
  },
  {
   "cell_type": "markdown",
   "metadata": {},
   "source": [
    "### 访问"
   ]
  },
  {
   "cell_type": "code",
   "execution_count": 112,
   "metadata": {},
   "outputs": [
    {
     "data": {
      "text/plain": [
       "序号     4\n",
       "姓名    刘维\n",
       "性别     男\n",
       "语文    84\n",
       "数学    51\n",
       "英语    82\n",
       "物理    70\n",
       "化学    75\n",
       "生物    81\n",
       "Name: 3, dtype: object"
      ]
     },
     "execution_count": 112,
     "metadata": {},
     "output_type": "execute_result"
    }
   ],
   "source": [
    "#按照索引访问\n",
    "df.loc[3]"
   ]
  },
  {
   "cell_type": "code",
   "execution_count": 113,
   "metadata": {},
   "outputs": [
    {
     "data": {
      "text/html": [
       "<div>\n",
       "<style scoped>\n",
       "    .dataframe tbody tr th:only-of-type {\n",
       "        vertical-align: middle;\n",
       "    }\n",
       "\n",
       "    .dataframe tbody tr th {\n",
       "        vertical-align: top;\n",
       "    }\n",
       "\n",
       "    .dataframe thead th {\n",
       "        text-align: right;\n",
       "    }\n",
       "</style>\n",
       "<table border=\"1\" class=\"dataframe\">\n",
       "  <thead>\n",
       "    <tr style=\"text-align: right;\">\n",
       "      <th></th>\n",
       "      <th>序号</th>\n",
       "      <th>姓名</th>\n",
       "      <th>性别</th>\n",
       "      <th>语文</th>\n",
       "      <th>数学</th>\n",
       "      <th>英语</th>\n",
       "      <th>物理</th>\n",
       "      <th>化学</th>\n",
       "      <th>生物</th>\n",
       "    </tr>\n",
       "  </thead>\n",
       "  <tbody>\n",
       "    <tr>\n",
       "      <th>0</th>\n",
       "      <td>1</td>\n",
       "      <td>阿热发提·依米提</td>\n",
       "      <td>男</td>\n",
       "      <td>60</td>\n",
       "      <td>84</td>\n",
       "      <td>85</td>\n",
       "      <td>61</td>\n",
       "      <td>35</td>\n",
       "      <td>49</td>\n",
       "    </tr>\n",
       "    <tr>\n",
       "      <th>1</th>\n",
       "      <td>2</td>\n",
       "      <td>毕云策</td>\n",
       "      <td>女</td>\n",
       "      <td>89</td>\n",
       "      <td>37</td>\n",
       "      <td>64</td>\n",
       "      <td>20</td>\n",
       "      <td>90</td>\n",
       "      <td>53</td>\n",
       "    </tr>\n",
       "    <tr>\n",
       "      <th>2</th>\n",
       "      <td>3</td>\n",
       "      <td>林心怡</td>\n",
       "      <td>男</td>\n",
       "      <td>79</td>\n",
       "      <td>67</td>\n",
       "      <td>100</td>\n",
       "      <td>42</td>\n",
       "      <td>62</td>\n",
       "      <td>30</td>\n",
       "    </tr>\n",
       "    <tr>\n",
       "      <th>3</th>\n",
       "      <td>4</td>\n",
       "      <td>刘维</td>\n",
       "      <td>男</td>\n",
       "      <td>84</td>\n",
       "      <td>51</td>\n",
       "      <td>82</td>\n",
       "      <td>70</td>\n",
       "      <td>75</td>\n",
       "      <td>81</td>\n",
       "    </tr>\n",
       "  </tbody>\n",
       "</table>\n",
       "</div>"
      ],
      "text/plain": [
       "   序号        姓名 性别  语文  数学   英语  物理  化学  生物\n",
       "0   1  阿热发提·依米提  男  60  84   85  61  35  49\n",
       "1   2       毕云策  女  89  37   64  20  90  53\n",
       "2   3       林心怡  男  79  67  100  42  62  30\n",
       "3   4        刘维  男  84  51   82  70  75  81"
      ]
     },
     "execution_count": 113,
     "metadata": {},
     "output_type": "execute_result"
    }
   ],
   "source": [
    "#切片操作\n",
    "df.loc[:3]"
   ]
  },
  {
   "cell_type": "code",
   "execution_count": 114,
   "metadata": {},
   "outputs": [
    {
     "data": {
      "text/html": [
       "<div>\n",
       "<style scoped>\n",
       "    .dataframe tbody tr th:only-of-type {\n",
       "        vertical-align: middle;\n",
       "    }\n",
       "\n",
       "    .dataframe tbody tr th {\n",
       "        vertical-align: top;\n",
       "    }\n",
       "\n",
       "    .dataframe thead th {\n",
       "        text-align: right;\n",
       "    }\n",
       "</style>\n",
       "<table border=\"1\" class=\"dataframe\">\n",
       "  <thead>\n",
       "    <tr style=\"text-align: right;\">\n",
       "      <th></th>\n",
       "      <th>序号</th>\n",
       "      <th>姓名</th>\n",
       "      <th>性别</th>\n",
       "      <th>语文</th>\n",
       "      <th>数学</th>\n",
       "      <th>英语</th>\n",
       "      <th>物理</th>\n",
       "      <th>化学</th>\n",
       "      <th>生物</th>\n",
       "    </tr>\n",
       "  </thead>\n",
       "  <tbody>\n",
       "    <tr>\n",
       "      <th>0</th>\n",
       "      <td>1</td>\n",
       "      <td>阿热发提·依米提</td>\n",
       "      <td>男</td>\n",
       "      <td>60</td>\n",
       "      <td>84</td>\n",
       "      <td>85</td>\n",
       "      <td>61</td>\n",
       "      <td>35</td>\n",
       "      <td>49</td>\n",
       "    </tr>\n",
       "    <tr>\n",
       "      <th>1</th>\n",
       "      <td>2</td>\n",
       "      <td>毕云策</td>\n",
       "      <td>女</td>\n",
       "      <td>89</td>\n",
       "      <td>37</td>\n",
       "      <td>64</td>\n",
       "      <td>20</td>\n",
       "      <td>90</td>\n",
       "      <td>53</td>\n",
       "    </tr>\n",
       "  </tbody>\n",
       "</table>\n",
       "</div>"
      ],
      "text/plain": [
       "   序号        姓名 性别  语文  数学  英语  物理  化学  生物\n",
       "0   1  阿热发提·依米提  男  60  84  85  61  35  49\n",
       "1   2       毕云策  女  89  37  64  20  90  53"
      ]
     },
     "execution_count": 114,
     "metadata": {},
     "output_type": "execute_result"
    }
   ],
   "source": [
    "#另一种切片\n",
    "df[:2]"
   ]
  },
  {
   "cell_type": "code",
   "execution_count": 115,
   "metadata": {},
   "outputs": [
    {
     "data": {
      "text/plain": [
       "array([[1, '阿热发提·依米提', '男', 60, 84, 85, 61, 35, 49],\n",
       "       [2, '毕云策', '女', 89, 37, 64, 20, 90, 53],\n",
       "       [3, '林心怡', '男', 79, 67, 100, 42, 62, 30],\n",
       "       [4, '刘维', '男', 84, 51, 82, 70, 75, 81],\n",
       "       [5, '任吉林', '女', 69, 74, 50, 84, 72, 52],\n",
       "       [6, '沈少钦', '女', 55, 47, 95, 84, 35, 24],\n",
       "       [7, '唐宇辉', '男', 48, 72, 63, 50, 79, 64],\n",
       "       [8, '叶天程', '女', 81, 51, 68, 28, 75, 54],\n",
       "       [9, '张晨茜', '男', 38, 93, 71, 44, 67, 46],\n",
       "       [10, '张如桢', '女', 35, 76, 33, 55, 74, 72],\n",
       "       [11, '周鑫源', '男', 65, 41, 36, 93, 78, 35],\n",
       "       [12, '张荣涛', '女', 72, 37, 69, 96, 69, 28],\n",
       "       [13, '陈欣楠', '男', 99, 50, 39, 88, 30, 85],\n",
       "       [14, '何儒斌', '男', 90, 50, 25, 68, 73, 83],\n",
       "       [15, '林心怡', '女', 67, 33, 84, 80, 20, 64],\n",
       "       [16, '林紫韬', '女', 59, 30, 78, 35, 47, 22],\n",
       "       [17, '刘薇', '男', 86, 70, 24, 44, 62, 36],\n",
       "       [18, '孟庆昊', '女', 63, 56, 93, 41, 74, 74],\n",
       "       [19, '沈斯涵', '女', 41, 89, 84, 64, 57, 73],\n",
       "       [20, '孙小棠', '男', 84, 98, 66, 86, 88, 51],\n",
       "       [21, '唐宇辉', '女', 55, 70, 100, 64, 31, 53],\n",
       "       [22, '田凡冉', '男', 69, 97, 85, 30, 39, 55],\n",
       "       [23, '叶小杰', '男', 62, 31, 96, 77, 61, 20],\n",
       "       [24, '邹承成', '女', 79, 74, 84, 66, 77, 90],\n",
       "       [25, '蔡振宇', '女', 27, 42, 65, 89, 24, 85],\n",
       "       [26, '陈少媛', '女', 35, 93, 30, 47, 59, 99],\n",
       "       [27, '陈盛莉', '男', 86, 78, 60, 41, 86, 72],\n",
       "       [28, '陈维严', '男', 35, 83, 45, 83, 68, 29],\n",
       "       [29, '陈咏媛', '男', 24, 47, 78, 71, 69, 45],\n",
       "       [30, '陈屿璠', '女', 87, 37, 45, 87, 40, 98],\n",
       "       [31, '恩卡尔·杰恩斯', '男', 75, 74, 32, 63, 72, 47],\n",
       "       [32, '郭咏诗', '女', 87, 79, 38, 99, 36, 60],\n",
       "       [33, '何心云', '男', 34, 97, 81, 72, 35, 88],\n",
       "       [34, '何星伯', '女', 54, 60, 90, 23, 78, 93],\n",
       "       [35, '侯翔宇', '男', 79, 27, 97, 83, 39, 34]], dtype=object)"
      ]
     },
     "execution_count": 115,
     "metadata": {},
     "output_type": "execute_result"
    }
   ],
   "source": [
    "#数组\n",
    "df.values"
   ]
  },
  {
   "cell_type": "code",
   "execution_count": 116,
   "metadata": {},
   "outputs": [
    {
     "data": {
      "text/plain": [
       "array([84, 37, 67, 51, 74, 47, 72, 51, 93, 76, 41, 37, 50, 50, 33, 30, 70,\n",
       "       56, 89, 98, 70, 97, 31, 74, 42, 93, 78, 83, 47, 37, 74, 79, 97, 60,\n",
       "       27], dtype=int64)"
      ]
     },
     "execution_count": 116,
     "metadata": {},
     "output_type": "execute_result"
    }
   ],
   "source": [
    "#数组\n",
    "df.数学.values"
   ]
  },
  {
   "cell_type": "code",
   "execution_count": 117,
   "metadata": {},
   "outputs": [
    {
     "data": {
      "text/html": [
       "<div>\n",
       "<style scoped>\n",
       "    .dataframe tbody tr th:only-of-type {\n",
       "        vertical-align: middle;\n",
       "    }\n",
       "\n",
       "    .dataframe tbody tr th {\n",
       "        vertical-align: top;\n",
       "    }\n",
       "\n",
       "    .dataframe thead th {\n",
       "        text-align: right;\n",
       "    }\n",
       "</style>\n",
       "<table border=\"1\" class=\"dataframe\">\n",
       "  <thead>\n",
       "    <tr style=\"text-align: right;\">\n",
       "      <th></th>\n",
       "      <th>姓名</th>\n",
       "      <th>语文</th>\n",
       "    </tr>\n",
       "  </thead>\n",
       "  <tbody>\n",
       "    <tr>\n",
       "      <th>0</th>\n",
       "      <td>阿热发提·依米提</td>\n",
       "      <td>60</td>\n",
       "    </tr>\n",
       "    <tr>\n",
       "      <th>1</th>\n",
       "      <td>毕云策</td>\n",
       "      <td>89</td>\n",
       "    </tr>\n",
       "    <tr>\n",
       "      <th>2</th>\n",
       "      <td>林心怡</td>\n",
       "      <td>79</td>\n",
       "    </tr>\n",
       "    <tr>\n",
       "      <th>3</th>\n",
       "      <td>刘维</td>\n",
       "      <td>84</td>\n",
       "    </tr>\n",
       "    <tr>\n",
       "      <th>4</th>\n",
       "      <td>任吉林</td>\n",
       "      <td>69</td>\n",
       "    </tr>\n",
       "  </tbody>\n",
       "</table>\n",
       "</div>"
      ],
      "text/plain": [
       "         姓名  语文\n",
       "0  阿热发提·依米提  60\n",
       "1       毕云策  89\n",
       "2       林心怡  79\n",
       "3        刘维  84\n",
       "4       任吉林  69"
      ]
     },
     "execution_count": 117,
     "metadata": {},
     "output_type": "execute_result"
    }
   ],
   "source": [
    "#提取列\n",
    "df[['姓名','语文']].head()"
   ]
  },
  {
   "cell_type": "markdown",
   "metadata": {},
   "source": [
    "### 使用委托的方法重映射数据"
   ]
  },
  {
   "cell_type": "code",
   "execution_count": 118,
   "metadata": {},
   "outputs": [
    {
     "data": {
      "text/html": [
       "<div>\n",
       "<style scoped>\n",
       "    .dataframe tbody tr th:only-of-type {\n",
       "        vertical-align: middle;\n",
       "    }\n",
       "\n",
       "    .dataframe tbody tr th {\n",
       "        vertical-align: top;\n",
       "    }\n",
       "\n",
       "    .dataframe thead th {\n",
       "        text-align: right;\n",
       "    }\n",
       "</style>\n",
       "<table border=\"1\" class=\"dataframe\">\n",
       "  <thead>\n",
       "    <tr style=\"text-align: right;\">\n",
       "      <th></th>\n",
       "      <th>序号</th>\n",
       "      <th>姓名</th>\n",
       "      <th>性别</th>\n",
       "      <th>语文</th>\n",
       "      <th>数学</th>\n",
       "      <th>英语</th>\n",
       "      <th>物理</th>\n",
       "      <th>化学</th>\n",
       "      <th>生物</th>\n",
       "      <th>数学等次</th>\n",
       "    </tr>\n",
       "  </thead>\n",
       "  <tbody>\n",
       "    <tr>\n",
       "      <th>0</th>\n",
       "      <td>1</td>\n",
       "      <td>阿热发提·依米提</td>\n",
       "      <td>男</td>\n",
       "      <td>60</td>\n",
       "      <td>84</td>\n",
       "      <td>85</td>\n",
       "      <td>61</td>\n",
       "      <td>35</td>\n",
       "      <td>49</td>\n",
       "      <td>优秀</td>\n",
       "    </tr>\n",
       "    <tr>\n",
       "      <th>1</th>\n",
       "      <td>2</td>\n",
       "      <td>毕云策</td>\n",
       "      <td>女</td>\n",
       "      <td>89</td>\n",
       "      <td>37</td>\n",
       "      <td>64</td>\n",
       "      <td>20</td>\n",
       "      <td>90</td>\n",
       "      <td>53</td>\n",
       "      <td>不及格</td>\n",
       "    </tr>\n",
       "    <tr>\n",
       "      <th>2</th>\n",
       "      <td>3</td>\n",
       "      <td>林心怡</td>\n",
       "      <td>男</td>\n",
       "      <td>79</td>\n",
       "      <td>67</td>\n",
       "      <td>100</td>\n",
       "      <td>42</td>\n",
       "      <td>62</td>\n",
       "      <td>30</td>\n",
       "      <td>及格</td>\n",
       "    </tr>\n",
       "    <tr>\n",
       "      <th>3</th>\n",
       "      <td>4</td>\n",
       "      <td>刘维</td>\n",
       "      <td>男</td>\n",
       "      <td>84</td>\n",
       "      <td>51</td>\n",
       "      <td>82</td>\n",
       "      <td>70</td>\n",
       "      <td>75</td>\n",
       "      <td>81</td>\n",
       "      <td>不及格</td>\n",
       "    </tr>\n",
       "    <tr>\n",
       "      <th>4</th>\n",
       "      <td>5</td>\n",
       "      <td>任吉林</td>\n",
       "      <td>女</td>\n",
       "      <td>69</td>\n",
       "      <td>74</td>\n",
       "      <td>50</td>\n",
       "      <td>84</td>\n",
       "      <td>72</td>\n",
       "      <td>52</td>\n",
       "      <td>良好</td>\n",
       "    </tr>\n",
       "  </tbody>\n",
       "</table>\n",
       "</div>"
      ],
      "text/plain": [
       "   序号        姓名 性别  语文  数学   英语  物理  化学  生物 数学等次\n",
       "0   1  阿热发提·依米提  男  60  84   85  61  35  49   优秀\n",
       "1   2       毕云策  女  89  37   64  20  90  53  不及格\n",
       "2   3       林心怡  男  79  67  100  42  62  30   及格\n",
       "3   4        刘维  男  84  51   82  70  75  81  不及格\n",
       "4   5       任吉林  女  69  74   50  84  72  52   良好"
      ]
     },
     "execution_count": 118,
     "metadata": {},
     "output_type": "execute_result"
    }
   ],
   "source": [
    "def func(score):#函数的参数是列中的元素\n",
    "    if score>=80:\n",
    "        return '优秀'\n",
    "    elif score>=70:\n",
    "        return '良好'\n",
    "    elif score>=60:\n",
    "        return '及格'\n",
    "    else:\n",
    "        return '不及格'\n",
    "\n",
    "#通过委托，新建一列\n",
    "df1=df.copy()\n",
    "df1['数学等次']=df1.数学.map(func)\n",
    "df1.head()"
   ]
  },
  {
   "cell_type": "code",
   "execution_count": 119,
   "metadata": {},
   "outputs": [
    {
     "data": {
      "text/html": [
       "<div>\n",
       "<style scoped>\n",
       "    .dataframe tbody tr th:only-of-type {\n",
       "        vertical-align: middle;\n",
       "    }\n",
       "\n",
       "    .dataframe tbody tr th {\n",
       "        vertical-align: top;\n",
       "    }\n",
       "\n",
       "    .dataframe thead th {\n",
       "        text-align: right;\n",
       "    }\n",
       "</style>\n",
       "<table border=\"1\" class=\"dataframe\">\n",
       "  <thead>\n",
       "    <tr style=\"text-align: right;\">\n",
       "      <th></th>\n",
       "      <th>序号</th>\n",
       "      <th>姓名</th>\n",
       "      <th>性别</th>\n",
       "      <th>语文</th>\n",
       "      <th>数学</th>\n",
       "      <th>英语</th>\n",
       "      <th>物理</th>\n",
       "      <th>化学</th>\n",
       "      <th>生物</th>\n",
       "    </tr>\n",
       "  </thead>\n",
       "  <tbody>\n",
       "    <tr>\n",
       "      <th>0</th>\n",
       "      <td>1</td>\n",
       "      <td>阿热发提·依米提</td>\n",
       "      <td>男</td>\n",
       "      <td>60</td>\n",
       "      <td>优秀</td>\n",
       "      <td>85</td>\n",
       "      <td>61</td>\n",
       "      <td>35</td>\n",
       "      <td>49</td>\n",
       "    </tr>\n",
       "    <tr>\n",
       "      <th>1</th>\n",
       "      <td>2</td>\n",
       "      <td>毕云策</td>\n",
       "      <td>女</td>\n",
       "      <td>89</td>\n",
       "      <td>不及格</td>\n",
       "      <td>64</td>\n",
       "      <td>20</td>\n",
       "      <td>90</td>\n",
       "      <td>53</td>\n",
       "    </tr>\n",
       "    <tr>\n",
       "      <th>2</th>\n",
       "      <td>3</td>\n",
       "      <td>林心怡</td>\n",
       "      <td>男</td>\n",
       "      <td>79</td>\n",
       "      <td>及格</td>\n",
       "      <td>100</td>\n",
       "      <td>42</td>\n",
       "      <td>62</td>\n",
       "      <td>30</td>\n",
       "    </tr>\n",
       "    <tr>\n",
       "      <th>3</th>\n",
       "      <td>4</td>\n",
       "      <td>刘维</td>\n",
       "      <td>男</td>\n",
       "      <td>84</td>\n",
       "      <td>不及格</td>\n",
       "      <td>82</td>\n",
       "      <td>70</td>\n",
       "      <td>75</td>\n",
       "      <td>81</td>\n",
       "    </tr>\n",
       "    <tr>\n",
       "      <th>4</th>\n",
       "      <td>5</td>\n",
       "      <td>任吉林</td>\n",
       "      <td>女</td>\n",
       "      <td>69</td>\n",
       "      <td>良好</td>\n",
       "      <td>50</td>\n",
       "      <td>84</td>\n",
       "      <td>72</td>\n",
       "      <td>52</td>\n",
       "    </tr>\n",
       "  </tbody>\n",
       "</table>\n",
       "</div>"
      ],
      "text/plain": [
       "   序号        姓名 性别  语文   数学   英语  物理  化学  生物\n",
       "0   1  阿热发提·依米提  男  60   优秀   85  61  35  49\n",
       "1   2       毕云策  女  89  不及格   64  20  90  53\n",
       "2   3       林心怡  男  79   及格  100  42  62  30\n",
       "3   4        刘维  男  84  不及格   82  70  75  81\n",
       "4   5       任吉林  女  69   良好   50  84  72  52"
      ]
     },
     "execution_count": 119,
     "metadata": {},
     "output_type": "execute_result"
    }
   ],
   "source": [
    "#通过委托，为成绩分类\n",
    "df1=df.copy()\n",
    "df1['数学']=df1.数学.map(func)\n",
    "df1.head()"
   ]
  },
  {
   "cell_type": "code",
   "execution_count": 126,
   "metadata": {},
   "outputs": [
    {
     "data": {
      "text/html": [
       "<div>\n",
       "<style scoped>\n",
       "    .dataframe tbody tr th:only-of-type {\n",
       "        vertical-align: middle;\n",
       "    }\n",
       "\n",
       "    .dataframe tbody tr th {\n",
       "        vertical-align: top;\n",
       "    }\n",
       "\n",
       "    .dataframe thead th {\n",
       "        text-align: right;\n",
       "    }\n",
       "</style>\n",
       "<table border=\"1\" class=\"dataframe\">\n",
       "  <thead>\n",
       "    <tr style=\"text-align: right;\">\n",
       "      <th></th>\n",
       "      <th>序号</th>\n",
       "      <th>姓名</th>\n",
       "      <th>性别</th>\n",
       "      <th>语文</th>\n",
       "      <th>数学</th>\n",
       "      <th>英语</th>\n",
       "      <th>物理</th>\n",
       "      <th>化学</th>\n",
       "      <th>生物</th>\n",
       "    </tr>\n",
       "  </thead>\n",
       "  <tbody>\n",
       "    <tr>\n",
       "      <th>0</th>\n",
       "      <td>不及格</td>\n",
       "      <td>阿热发提·依米提</td>\n",
       "      <td>男</td>\n",
       "      <td>及格</td>\n",
       "      <td>优秀</td>\n",
       "      <td>优秀</td>\n",
       "      <td>及格</td>\n",
       "      <td>不及格</td>\n",
       "      <td>不及格</td>\n",
       "    </tr>\n",
       "    <tr>\n",
       "      <th>1</th>\n",
       "      <td>不及格</td>\n",
       "      <td>毕云策</td>\n",
       "      <td>女</td>\n",
       "      <td>优秀</td>\n",
       "      <td>不及格</td>\n",
       "      <td>及格</td>\n",
       "      <td>不及格</td>\n",
       "      <td>优秀</td>\n",
       "      <td>不及格</td>\n",
       "    </tr>\n",
       "    <tr>\n",
       "      <th>2</th>\n",
       "      <td>不及格</td>\n",
       "      <td>林心怡</td>\n",
       "      <td>男</td>\n",
       "      <td>良好</td>\n",
       "      <td>及格</td>\n",
       "      <td>优秀</td>\n",
       "      <td>不及格</td>\n",
       "      <td>及格</td>\n",
       "      <td>不及格</td>\n",
       "    </tr>\n",
       "    <tr>\n",
       "      <th>3</th>\n",
       "      <td>不及格</td>\n",
       "      <td>刘维</td>\n",
       "      <td>男</td>\n",
       "      <td>优秀</td>\n",
       "      <td>不及格</td>\n",
       "      <td>优秀</td>\n",
       "      <td>良好</td>\n",
       "      <td>良好</td>\n",
       "      <td>优秀</td>\n",
       "    </tr>\n",
       "    <tr>\n",
       "      <th>4</th>\n",
       "      <td>不及格</td>\n",
       "      <td>任吉林</td>\n",
       "      <td>女</td>\n",
       "      <td>及格</td>\n",
       "      <td>良好</td>\n",
       "      <td>不及格</td>\n",
       "      <td>优秀</td>\n",
       "      <td>良好</td>\n",
       "      <td>不及格</td>\n",
       "    </tr>\n",
       "  </tbody>\n",
       "</table>\n",
       "</div>"
      ],
      "text/plain": [
       "    序号        姓名 性别  语文   数学   英语   物理   化学   生物\n",
       "0  不及格  阿热发提·依米提  男  及格   优秀   优秀   及格  不及格  不及格\n",
       "1  不及格       毕云策  女  优秀  不及格   及格  不及格   优秀  不及格\n",
       "2  不及格       林心怡  男  良好   及格   优秀  不及格   及格  不及格\n",
       "3  不及格        刘维  男  优秀  不及格   优秀   良好   良好   优秀\n",
       "4  不及格       任吉林  女  及格   良好  不及格   优秀   良好  不及格"
      ]
     },
     "execution_count": 126,
     "metadata": {},
     "output_type": "execute_result"
    }
   ],
   "source": [
    "#applymap可以同时对所有数据进行操作\n",
    "def fun1(score):\n",
    "    if isinstance(score,int):\n",
    "        if score>=80:\n",
    "            return '优秀'\n",
    "        elif score>=70:\n",
    "            return '良好'\n",
    "        elif score>=60:\n",
    "            return '及格'\n",
    "        else:\n",
    "            return '不及格'\n",
    "    else:\n",
    "        return score\n",
    "df1=df.copy()\n",
    "df1.applymap(fun1).head()   \n",
    "        "
   ]
  },
  {
   "cell_type": "markdown",
   "metadata": {},
   "source": [
    "### 绘图"
   ]
  },
  {
   "cell_type": "code",
   "execution_count": 35,
   "metadata": {},
   "outputs": [
    {
     "data": {
      "text/plain": [
       "<matplotlib.axes._subplots.AxesSubplot at 0x1808e0ab518>"
      ]
     },
     "execution_count": 35,
     "metadata": {},
     "output_type": "execute_result"
    },
    {
     "data": {
      "image/png": "[encoded data removed]",
      "text/plain": [
       "<Figure size 432x288 with 1 Axes>"
      ]
     },
     "metadata": {
      "needs_background": "light"
     },
     "output_type": "display_data"
    }
   ],
   "source": [
    "df1[['数学','语文']]=df[['数学','语文']]\n",
    "\n",
    "df1.plot()"
   ]
  },
  {
   "cell_type": "code",
   "execution_count": 36,
   "metadata": {},
   "outputs": [
    {
     "data": {
      "text/plain": [
       "<matplotlib.axes._subplots.AxesSubplot at 0x1808df93f28>"
      ]
     },
     "execution_count": 36,
     "metadata": {},
     "output_type": "execute_result"
    },
    {
     "data": {
      "image/png": "[encoded data removed]",
      "text/plain": [
       "<Figure size 432x288 with 1 Axes>"
      ]
     },
     "metadata": {
      "needs_background": "light"
     },
     "output_type": "display_data"
    }
   ],
   "source": [
    "df1.plot.bar()"
   ]
  },
  {
   "cell_type": "code",
   "execution_count": 37,
   "metadata": {},
   "outputs": [
    {
     "data": {
      "text/plain": [
       "<matplotlib.axes._subplots.AxesSubplot at 0x1808df9c320>"
      ]
     },
     "execution_count": 37,
     "metadata": {},
     "output_type": "execute_result"
    },
    {
     "data": {
      "image/png": "[encoded data removed]",
      "text/plain": [
       "<Figure size 432x288 with 1 Axes>"
      ]
     },
     "metadata": {
      "needs_background": "light"
     },
     "output_type": "display_data"
    }
   ],
   "source": [
    "df1.plot(kind='bar',stacked=True)"
   ]
  },
  {
   "cell_type": "code",
   "execution_count": 32,
   "metadata": {},
   "outputs": [
    {
     "data": {
      "text/plain": [
       "<matplotlib.axes._subplots.AxesSubplot at 0x1808c791ba8>"
      ]
     },
     "execution_count": 32,
     "metadata": {},
     "output_type": "execute_result"
    },
    {
     "data": {
      "image/png": "[encoded data removed]",
      "text/plain": [
       "<Figure size 432x288 with 1 Axes>"
      ]
     },
     "metadata": {
      "needs_background": "light"
     },
     "output_type": "display_data"
    }
   ],
   "source": [
    "df1.plot.kde()"
   ]
  },
  {
   "cell_type": "code",
   "execution_count": 43,
   "metadata": {},
   "outputs": [
    {
     "data": {
      "text/plain": [
       "array([[<matplotlib.axes._subplots.AxesSubplot object at 0x0000018090076710>]],\n",
       "      dtype=object)"
      ]
     },
     "execution_count": 43,
     "metadata": {},
     "output_type": "execute_result"
    },
    {
     "data": {
      "image/png": "[encoded data removed]",
      "text/plain": [
       "<Figure size 360x288 with 1 Axes>"
      ]
     },
     "metadata": {
      "needs_background": "light"
     },
     "output_type": "display_data"
    }
   ],
   "source": [
    "import numpy as np\n",
    "df1=pd.DataFrame(np.random.randn(100,4),columns=['A','B','C','D'])\n",
    "df1.hist(column='A',figsize=(5,4))"
   ]
  }
 ],
 "metadata": {
  "kernelspec": {
   "display_name": "Python 3",
   "language": "python",
   "name": "python3"
  },
  "language_info": {
   "codemirror_mode": {
    "name": "ipython",
    "version": 3
   },
   "file_extension": ".py",
   "mimetype": "text/x-python",
   "name": "python",
   "nbconvert_exporter": "python",
   "pygments_lexer": "ipython3",
   "version": "3.7.3"
  }
 },
 "nbformat": 4,
 "nbformat_minor": 2
}
