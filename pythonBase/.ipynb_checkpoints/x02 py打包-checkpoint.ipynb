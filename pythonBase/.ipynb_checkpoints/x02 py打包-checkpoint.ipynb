{
 "cells": [
  {
   "cell_type": "markdown",
   "metadata": {},
   "source": [
    "### 在虚拟环境中进行打包"
   ]
  },
  {
   "cell_type": "markdown",
   "metadata": {},
   "source": [
    "关键点就一个：要在虚拟环境里安装pyinstaller\n",
    "\n",
    "如果你没有在虚拟环境中安装pyinstaller，你同样可以使用pyinstaller命令，但是调用的是你系统原本的那个python编译器，内含很多关联库，导致即使在虚拟环境中，你打包的exe文件仍然非常大。\n",
    "\n",
    "另外一点要注意的是：要在虚拟环境里安装好你py文件中调用的库，不然打包出来也没法正常运行。\n",
    "\n",
    "最后再复习一下正确流程 (前提是安装好pipenv）：\n",
    "\n",
    "#建立虚拟环境\n",
    "pipenv install\n",
    "#进入虚拟环境（上一步可省略,因为没有虚拟环境的话会自动建立一个）\n",
    "pipenv shell\n",
    "#安装模块\n",
    "pip install requests pyquery pysimplegui fake_useragent\n",
    "#打包的模块也要安装\n",
    "pip install pyinstaller\n",
    "#开始打包\n",
    "pyinstaller -Fw E:\\test\\url_crawler.py"
   ]
  },
  {
   "cell_type": "markdown",
   "metadata": {},
   "source": [
    "#### Pyinstaller打包出现UnicodeDecodeError: 'utf-8' codec can't decode byte 0xce in position 解决方案"
   ]
  },
  {
   "cell_type": "markdown",
   "metadata": {},
   "source": [
    "在你打包的命令行中先输入chcp 65001 然后再输入打包命令。 \n",
    "pyinstaller -F xxx.py"
   ]
  },
  {
   "cell_type": "code",
   "execution_count": null,
   "metadata": {},
   "outputs": [],
   "source": []
  }
 ],
 "metadata": {
  "kernelspec": {
   "display_name": "Python 3",
   "language": "python",
   "name": "python3"
  },
  "language_info": {
   "codemirror_mode": {
    "name": "ipython",
    "version": 3
   },
   "file_extension": ".py",
   "mimetype": "text/x-python",
   "name": "python",
   "nbconvert_exporter": "python",
   "pygments_lexer": "ipython3",
   "version": "3.7.3"
  }
 },
 "nbformat": 4,
 "nbformat_minor": 2
}
