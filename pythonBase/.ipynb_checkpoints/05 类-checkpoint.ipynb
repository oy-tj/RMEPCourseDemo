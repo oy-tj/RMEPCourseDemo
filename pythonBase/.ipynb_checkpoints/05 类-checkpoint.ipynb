{
 "cells": [
  {
   "cell_type": "markdown",
   "metadata": {},
   "source": [
    "### 类定义\n",
    "- self 指实例本身\n",
    "- \\_\\_init\\_\\_是初始化函数\n",
    "- 以'\\_'开头的属性为隐私属性，看不见，但是也能访问"
   ]
  },
  {
   "cell_type": "code",
   "execution_count": 39,
   "metadata": {},
   "outputs": [],
   "source": [
    "class Person:\n",
    "    age=0     #公开属性\n",
    "    _name=''  #隐私属性\n",
    "    def __init__(self,name): #初始化函数\n",
    "        self._name=name\n",
    "    def getName(self): #方法\n",
    "        return self._name\n",
    "    def reName(self,newName):\n",
    "        self._name=newName\n",
    "    "
   ]
  },
  {
   "cell_type": "markdown",
   "metadata": {},
   "source": [
    "### 类的调用"
   ]
  },
  {
   "cell_type": "code",
   "execution_count": 40,
   "metadata": {},
   "outputs": [
    {
     "name": "stdout",
     "output_type": "stream",
     "text": [
      "Name:oytj Age:30\n"
     ]
    }
   ],
   "source": [
    "person1=Person('oytj')#实例化类\n",
    "person1.age=30 #修改属性\n",
    "print('Name:'+person1.getName()+' Age:'+(str)(person1.age))#访问方法与属性"
   ]
  },
  {
   "cell_type": "markdown",
   "metadata": {},
   "source": [
    "### 类的继承"
   ]
  },
  {
   "cell_type": "code",
   "execution_count": 56,
   "metadata": {},
   "outputs": [],
   "source": [
    "class Student(Person):\n",
    "    _score=0;\n",
    "    def setScore(self,score):\n",
    "        self._score=score\n",
    "    def getScore(self):\n",
    "        return self._score"
   ]
  },
  {
   "cell_type": "code",
   "execution_count": 57,
   "metadata": {},
   "outputs": [
    {
     "name": "stdout",
     "output_type": "stream",
     "text": [
      "Name:Liu Score:90\n"
     ]
    }
   ],
   "source": [
    "stu1=Student('Liu')\n",
    "stu1.setScore(90)\n",
    "print('Name:'+stu1.getName()+' Score:'+(str)(stu1.getScore()))#访问方法与属性"
   ]
  },
  {
   "cell_type": "markdown",
   "metadata": {},
   "source": [
    "- 可以把一个类封装在一个py文件中，然后import这个py文件，就可以使用这个类了"
   ]
  },
  {
   "cell_type": "code",
   "execution_count": null,
   "metadata": {},
   "outputs": [],
   "source": []
  }
 ],
 "metadata": {
  "kernelspec": {
   "display_name": "Python 3",
   "language": "python",
   "name": "python3"
  },
  "language_info": {
   "codemirror_mode": {
    "name": "ipython",
    "version": 3
   },
   "file_extension": ".py",
   "mimetype": "text/x-python",
   "name": "python",
   "nbconvert_exporter": "python",
   "pygments_lexer": "ipython3",
   "version": "3.7.3"
  }
 },
 "nbformat": 4,
 "nbformat_minor": 2
}
