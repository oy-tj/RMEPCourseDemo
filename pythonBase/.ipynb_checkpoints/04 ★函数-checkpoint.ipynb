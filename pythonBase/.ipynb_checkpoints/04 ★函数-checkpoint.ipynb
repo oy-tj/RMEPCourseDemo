{
 "cells": [
  {
   "cell_type": "markdown",
   "metadata": {},
   "source": [
    "### ★函数定义"
   ]
  },
  {
   "cell_type": "code",
   "execution_count": 72,
   "metadata": {},
   "outputs": [],
   "source": [
    "def funName(parameter1,parameter2):\n",
    "    returnParameter=parameter1+parameter2\n",
    "    return returnParameter"
   ]
  },
  {
   "cell_type": "markdown",
   "metadata": {},
   "source": [
    "### ★函数调用"
   ]
  },
  {
   "cell_type": "markdown",
   "metadata": {},
   "source": [
    "- 参数按照定义的位置依次填写称作**位置参数**"
   ]
  },
  {
   "cell_type": "code",
   "execution_count": 73,
   "metadata": {},
   "outputs": [
    {
     "name": "stdout",
     "output_type": "stream",
     "text": [
      "p1p2\n"
     ]
    }
   ],
   "source": [
    "print(funName('p1','p2'))"
   ]
  },
  {
   "cell_type": "markdown",
   "metadata": {},
   "source": [
    "- 可以使用**关键字参数**调整参数的顺序"
   ]
  },
  {
   "cell_type": "code",
   "execution_count": 74,
   "metadata": {},
   "outputs": [
    {
     "name": "stdout",
     "output_type": "stream",
     "text": [
      "p1p2\n"
     ]
    }
   ],
   "source": [
    "print(funName(parameter2='p2',parameter1='p1'))"
   ]
  },
  {
   "cell_type": "markdown",
   "metadata": {},
   "source": [
    "- 参数同样具有形参（列表等类型）与实参（int等类型）\n",
    "- 允许多个返回值，多个返回值在return后用‘，’隔开，这些返回值会被打包成一个元组"
   ]
  },
  {
   "cell_type": "markdown",
   "metadata": {},
   "source": [
    "### 不定参数\n",
    "#### 让函数可以接受不定数量的位置参数\n",
    "- 在参数前加 <font size=5>**‘\\*’**</font> 可以让该参数接受不定数量的**位置参数**，这些参数实际上会被打包成**列表**"
   ]
  },
  {
   "cell_type": "code",
   "execution_count": 75,
   "metadata": {},
   "outputs": [
    {
     "name": "stdout",
     "output_type": "stream",
     "text": [
      "[1, 2, 3, 4, 5]\n"
     ]
    }
   ],
   "source": [
    "def fun1(first,*args):\n",
    "    ret=[]\n",
    "    ret.append(first)\n",
    "    for arg in args:\n",
    "        ret.append(arg)\n",
    "    return ret\n",
    "print(fun1(1,2,3,4,5))"
   ]
  },
  {
   "cell_type": "markdown",
   "metadata": {},
   "source": [
    "#### 让函数可以接受不定数量的关键字参数\n",
    "- 在参数前加<font size=5> **‘\\*\\*’**</font> 可以让该参数接受不定数量的**关键字参数**，这些参数实际上会被打包成**字典**"
   ]
  },
  {
   "cell_type": "code",
   "execution_count": 76,
   "metadata": {},
   "outputs": [
    {
     "name": "stdout",
     "output_type": "stream",
     "text": [
      "{'arg1': 'A', 'arg2': 'B', 'arg3': 'C', 'arg4': 'D', 'arg5': 'E'}\n"
     ]
    }
   ],
   "source": [
    "def fun1(**args):\n",
    "    ret={}\n",
    "    for arg in args.items():\n",
    "        ret[arg[0]]=arg[1]\n",
    "    return ret\n",
    "print(fun1(arg1='A',arg2='B',arg3='C',arg4='D',arg5='E'))"
   ]
  },
  {
   "cell_type": "markdown",
   "metadata": {},
   "source": [
    "### 装饰器\n",
    "#### 函数也可作为变量赋值"
   ]
  },
  {
   "cell_type": "code",
   "execution_count": 77,
   "metadata": {},
   "outputs": [
    {
     "name": "stdout",
     "output_type": "stream",
     "text": [
      "hi oytj!\n"
     ]
    }
   ],
   "source": [
    "def hi(name='oytj'):\n",
    "    return 'hi '+name+'!'\n",
    "hi_1=hi\n",
    "print(hi_1())"
   ]
  },
  {
   "cell_type": "markdown",
   "metadata": {},
   "source": [
    "#### 函数也可嵌套定义，并在内部调用"
   ]
  },
  {
   "cell_type": "code",
   "execution_count": 78,
   "metadata": {},
   "outputs": [
    {
     "name": "stdout",
     "output_type": "stream",
     "text": [
      "in funB\n",
      "in funC\n"
     ]
    }
   ],
   "source": [
    "def funA(isB):\n",
    "    def funB():\n",
    "        print('in funB')\n",
    "    def funC():\n",
    "        print('in funC')\n",
    "    if isB=='B':\n",
    "        funB()\n",
    "    else:\n",
    "        funC()\n",
    "funA(\"B\")\n",
    "funA(3)"
   ]
  },
  {
   "cell_type": "markdown",
   "metadata": {},
   "source": [
    "#### 内部定义的函数可以直接作为返回值"
   ]
  },
  {
   "cell_type": "code",
   "execution_count": 79,
   "metadata": {},
   "outputs": [
    {
     "name": "stdout",
     "output_type": "stream",
     "text": [
      "in funB\n",
      "in funC\n",
      "a指向的函数：funB\n",
      "b指向的函数：funC\n"
     ]
    }
   ],
   "source": [
    "def funA(isB):\n",
    "    def funB():\n",
    "        print('in funB')\n",
    "    def funC():\n",
    "        print('in funC')\n",
    "    if isB=='B':\n",
    "        return funB\n",
    "    else:\n",
    "        return funC\n",
    "a=funA(\"B\")#让a指向funB\n",
    "b=funA(3)#让b指向funC\n",
    "a()\n",
    "b()\n",
    "print('a指向的函数：'+a.__name__)\n",
    "print('b指向的函数：'+b.__name__)"
   ]
  },
  {
   "cell_type": "markdown",
   "metadata": {},
   "source": [
    "#### 把函数作为参数"
   ]
  },
  {
   "cell_type": "code",
   "execution_count": 80,
   "metadata": {},
   "outputs": [
    {
     "name": "stdout",
     "output_type": "stream",
     "text": [
      "in beforA\n",
      "in funA\n"
     ]
    }
   ],
   "source": [
    "def funA():\n",
    "    print('in funA')\n",
    "\n",
    "def beforA(func):\n",
    "    print('in beforA')\n",
    "    func()\n",
    "\n",
    "beforA(funA)"
   ]
  },
  {
   "cell_type": "markdown",
   "metadata": {},
   "source": [
    "- 这里就可以把beforA看作是funA的装饰器的原型\n",
    "#### 一个装饰器"
   ]
  },
  {
   "cell_type": "code",
   "execution_count": 81,
   "metadata": {},
   "outputs": [
    {
     "name": "stdout",
     "output_type": "stream",
     "text": [
      "befor funA\n",
      "in funA\n",
      "after funA\n",
      "funA实际指向的函数：wraper\n"
     ]
    }
   ],
   "source": [
    "def myDecorator(func):#装饰器\n",
    "    def wraper():\n",
    "        print('befor '+ func.__name__)\n",
    "        func()\n",
    "        print('after '+ func.__name__)\n",
    "    return wraper#返回的被装饰过头尾的函数\n",
    "\n",
    "def funA():\n",
    "    print('in funA')\n",
    "funA=myDecorator(funA)#使用装饰器装饰funA\n",
    "\n",
    "funA()\n",
    "print('funA实际指向的函数：'+funA.__name__)"
   ]
  },
  {
   "cell_type": "markdown",
   "metadata": {},
   "source": [
    "#### 使用@来生成被装饰函数"
   ]
  },
  {
   "cell_type": "code",
   "execution_count": 83,
   "metadata": {},
   "outputs": [
    {
     "name": "stdout",
     "output_type": "stream",
     "text": [
      "befor funA\n",
      "in funA\n",
      "after funA\n",
      "befor funB\n",
      "in funB\n",
      "after funB\n",
      "funA实际指向的函数：wraper\n",
      "funB实际指向的函数：wraper\n"
     ]
    }
   ],
   "source": [
    "def myDecorator(func):#装饰器\n",
    "    def wraper():\n",
    "        print('befor '+ func.__name__)\n",
    "        func()\n",
    "        print('after '+ func.__name__)\n",
    "    return wraper#返回的被装饰过头尾的函数\n",
    "\n",
    "@myDecorator#这句话用来代替funA=myDecorator(funA)，使用装饰器myDecorator装饰funA\n",
    "def funA():\n",
    "    print('in funA')\n",
    "\n",
    "@myDecorator\n",
    "def funB():\n",
    "    print('in funB')\n",
    "    \n",
    "funA()\n",
    "funB()\n",
    "print('funA实际指向的函数：'+funA.__name__)\n",
    "print('funB实际指向的函数：'+funB.__name__)"
   ]
  },
  {
   "cell_type": "markdown",
   "metadata": {},
   "source": [
    "- 以上例子中被装饰函数的属性都被被wraper的属性代替了，可以使用functools.wraps()方法修复这个问题"
   ]
  },
  {
   "cell_type": "code",
   "execution_count": 84,
   "metadata": {},
   "outputs": [
    {
     "name": "stdout",
     "output_type": "stream",
     "text": [
      "befor funA\n",
      "in funA\n",
      "after funA\n",
      "befor funB\n",
      "in funB\n",
      "after funB\n",
      "funA实际指向的函数：funA\n",
      "funB实际指向的函数：funB\n"
     ]
    }
   ],
   "source": [
    "from functools import wraps #使用wraps()方法需要的库\n",
    "\n",
    "def myDecorator(func):#装饰器\n",
    "    @wraps(func) #装饰后的函数显示被装饰函数的属性\n",
    "    def wraper():\n",
    "        print('befor '+ func.__name__)\n",
    "        func()\n",
    "        print('after '+ func.__name__)\n",
    "    return wraper#返回的被装饰过头尾的函数\n",
    "\n",
    "@myDecorator#这句话用来代替funA=myDecorator(funA)，使用装饰器myDecorator装饰funA\n",
    "def funA():\n",
    "    print('in funA')\n",
    "\n",
    "@myDecorator\n",
    "def funB():\n",
    "    print('in funB')\n",
    "    \n",
    "funA()\n",
    "funB()\n",
    "print('funA实际指向的函数：'+funA.__name__)\n",
    "print('funB实际指向的函数：'+funB.__name__)"
   ]
  },
  {
   "cell_type": "markdown",
   "metadata": {},
   "source": [
    "#### 如果被修饰的函数带有参数\n",
    "- 装饰器内的wraper和func要带上通用位置和关键字参数"
   ]
  },
  {
   "cell_type": "code",
   "execution_count": 86,
   "metadata": {},
   "outputs": [
    {
     "name": "stdout",
     "output_type": "stream",
     "text": [
      "befor funA\n",
      "Bob in funA\n",
      "after funA\n",
      "befor funB\n",
      "Jim in funB\n",
      "after funB\n",
      "funA实际指向的函数：funA\n",
      "funB实际指向的函数：funB\n"
     ]
    }
   ],
   "source": [
    "from functools import wraps #使用wraps()方法需要的库\n",
    "\n",
    "def myDecorator(func):#装饰器\n",
    "    @wraps(func) #装饰后的函数显示被装饰函数的属性\n",
    "    def wraper(*args, **kwargs): #用于传递位置参数与关键字参数\n",
    "        print('befor '+ func.__name__)\n",
    "        func(*args, **kwargs) #用于传递位置参数与关键字参数\n",
    "        print('after '+ func.__name__)\n",
    "    return wraper#返回的被装饰过头尾的函数\n",
    "\n",
    "@myDecorator#这句话用来代替funA=myDecorator(funA)，使用装饰器myDecorator装饰funA\n",
    "def funA(x):\n",
    "    print(x+' in funA')\n",
    "\n",
    "@myDecorator\n",
    "def funB(x):\n",
    "    print(x+' in funB')\n",
    "    \n",
    "funA('Bob')\n",
    "funB('Jim')\n",
    "print('funA实际指向的函数：'+funA.__name__)\n",
    "print('funB实际指向的函数：'+funB.__name__)"
   ]
  }
 ],
 "metadata": {
  "kernelspec": {
   "display_name": "Python 3",
   "language": "python",
   "name": "python3"
  },
  "language_info": {
   "codemirror_mode": {
    "name": "ipython",
    "version": 3
   },
   "file_extension": ".py",
   "mimetype": "text/x-python",
   "name": "python",
   "nbconvert_exporter": "python",
   "pygments_lexer": "ipython3",
   "version": "3.8.10"
  }
 },
 "nbformat": 4,
 "nbformat_minor": 2
}
