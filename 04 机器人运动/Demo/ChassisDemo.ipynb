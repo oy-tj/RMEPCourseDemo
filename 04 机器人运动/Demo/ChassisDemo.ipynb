{
 "cells": [
  {
   "cell_type": "markdown",
   "metadata": {},
   "source": [
    "## 底盘操作\n",
    "### 导入库"
   ]
  },
  {
   "cell_type": "code",
   "execution_count": 1,
   "metadata": {},
   "outputs": [],
   "source": [
    "import robomaster\n",
    "import time\n",
    "from robomaster import robot\n",
    "from robomaster import conn\n",
    "from MyQR import myqr #生成二维码\n",
    "from PIL import Image #PIL图像操作库\n",
    "from IPython.display import Image as IMG #IPython显示模块，在jupyter notebook中使用"
   ]
  },
  {
   "cell_type": "markdown",
   "metadata": {},
   "source": [
    "### EP接入局域网\n",
    "这一步操作尽量使用只有一个网卡的电脑，或者禁用其他网卡只保留一个网卡\n",
    "\n",
    "如果你的EP已经加入局域网，这一步可以省略"
   ]
  },
  {
   "cell_type": "code",
   "execution_count": 6,
   "metadata": {},
   "outputs": [
    {
     "name": "stdout",
     "output_type": "stream",
     "text": [
      "line 16: mode: byte\n"
     ]
    },
    {
     "data": {
      "image/png": "[encoded data removed]",
      "text/plain": [
       "<PIL.Image.Image image mode=1 size=300x300 at 0x283F415FCA0>"
      ]
     },
     "metadata": {},
     "output_type": "display_data"
    },
    {
     "name": "stdout",
     "output_type": "stream",
     "text": [
      "Connected!\n"
     ]
    }
   ],
   "source": [
    "QRCODE_NAME = \"qrcode.png\"\n",
    "helper = conn.ConnectionHelper()\n",
    "info = helper.build_qrcode_string(ssid=\"Xiaomi_CC65OT\", password=\"435782572\")\n",
    "myqr.run(words=info)\n",
    "#time.sleep(1)\n",
    "display(Image.open(QRCODE_NAME).resize((300,300)))\n",
    "\n",
    "if helper.wait_for_connection():\n",
    "    print(\"Connected!\")\n",
    "    break\n",
    "else:\n",
    "    print(\"Connect failed!\")\n",
    "\n",
    "'''\n",
    "#在pycharm可以尝试这段代码\n",
    "helper = conn.ConnectionHelper()\n",
    "info = helper.build_qrcode_string(ssid=\"RoboMaster_SDK_WIFI\", password=\"12341234\")\n",
    "myqr.run(words=info)\n",
    "time.sleep(1)\n",
    "img = Image.open(QRCODE_NAME)\n",
    "img.show()\n",
    "if helper.wait_for_connection():\n",
    "    print(\"Connected!\")\n",
    "else:\n",
    "    print(\"Connect failed!\")\n",
    "\n",
    "'''"
   ]
  },
  {
   "attachments": {},
   "cell_type": "markdown",
   "metadata": {},
   "source": [
    "### 设置麦轮转速 \n",
    "drive_speed(x=0.0, y=0.0, z=0.0,timeout=None)"
   ]
  },
  {
   "cell_type": "code",
   "execution_count": 10,
   "metadata": {},
   "outputs": [],
   "source": [
    "ep_robot = robot.Robot()\n",
    "ep_robot.initialize(conn_type=\"sta\")\n",
    "\n",
    "ep_chassis = ep_robot.chassis\n",
    "\n",
    "# 指定麦轮速度\n",
    "speed = 50\n",
    "slp = 1\n",
    "\n",
    "# 转动右前轮\n",
    "ep_chassis.drive_wheels(w1=speed, w2=0, w3=0, w4=0)\n",
    "time.sleep(slp)\n",
    "\n",
    "# 转动左前轮\n",
    "ep_chassis.drive_wheels(w1=0, w2=speed, w3=0, w4=0)\n",
    "time.sleep(slp)\n",
    "\n",
    "# 转动左后轮\n",
    "ep_chassis.drive_wheels(w1=0, w2=0, w3=speed, w4=0)\n",
    "time.sleep(slp)\n",
    "\n",
    "# 转动右后轮\n",
    "ep_chassis.drive_wheels(w1=0, w2=0, w3=0, w4=speed)\n",
    "time.sleep(slp)\n",
    "\n",
    "# 前进 3秒\n",
    "ep_chassis.drive_wheels(w1=speed, w2=speed, w3=speed, w4=speed)\n",
    "time.sleep(slp)\n",
    "\n",
    "# 后退 3秒\n",
    "ep_chassis.drive_wheels(w1=-speed, w2=-speed, w3=-speed, w4=-speed)\n",
    "time.sleep(slp)\n",
    "\n",
    "# 左移 3秒\n",
    "ep_chassis.drive_wheels(w1=speed, w2=-speed, w3=speed, w4=-speed)\n",
    "time.sleep(slp)\n",
    "\n",
    "# 右移 3秒\n",
    "ep_chassis.drive_wheels(w1=-speed, w2=speed, w3=-speed, w4=speed)\n",
    "time.sleep(slp)\n",
    "\n",
    "# 左转 3秒\n",
    "ep_chassis.drive_wheels(w1=speed, w2=-speed, w3=-speed, w4=speed)\n",
    "time.sleep(slp)\n",
    "\n",
    "# 右转 3秒\n",
    "ep_chassis.drive_wheels(w1=-speed, w2=speed, w3=speed, w4=-speed)\n",
    "time.sleep(slp)\n",
    "\n",
    "# 停止麦轮运动\n",
    "ep_chassis.drive_wheels(w1=0, w2=0, w3=0, w4=0)\n",
    "\n",
    "ep_robot.close()"
   ]
  },
  {
   "attachments": {},
   "cell_type": "markdown",
   "metadata": {},
   "source": [
    "### 设置底盘速度\n",
    "drive_wheels(w1=0, w2=0, w3=0, w4=0, timeout=None)"
   ]
  },
  {
   "cell_type": "code",
   "execution_count": 15,
   "metadata": {},
   "outputs": [],
   "source": [
    "ep_robot = robot.Robot()\n",
    "ep_robot.initialize(conn_type=\"sta\")\n",
    "\n",
    "ep_chassis = ep_robot.chassis\n",
    "\n",
    "x_val = 0.5\n",
    "y_val = 0.3\n",
    "z_val = 30\n",
    "\n",
    "# 前进 3秒\n",
    "ep_chassis.drive_speed(x=x_val, y=0, z=0, timeout=5)\n",
    "time.sleep(3)\n",
    "\n",
    "# 后退 3秒\n",
    "ep_chassis.drive_speed(x=-x_val, y=0, z=0, timeout=5)\n",
    "time.sleep(3)\n",
    "\n",
    "# 左移 3秒\n",
    "ep_chassis.drive_speed(x=0, y=-y_val, z=0, timeout=5)\n",
    "time.sleep(3)\n",
    "\n",
    "# 右移 3秒\n",
    "ep_chassis.drive_speed(x=0, y=y_val, z=0, timeout=5)\n",
    "time.sleep(3)\n",
    "\n",
    "# 左转 3秒\n",
    "ep_chassis.drive_speed(x=0, y=0, z=-z_val, timeout=5)\n",
    "time.sleep(3)\n",
    "\n",
    "# 右转 3秒\n",
    "ep_chassis.drive_speed(x=0, y=0, z=z_val, timeout=5)\n",
    "time.sleep(3)\n",
    "\n",
    "# 停止麦轮运动\n",
    "ep_chassis.drive_speed(x=0, y=0, z=0, timeout=5)\n",
    "\n",
    "ep_robot.close()\n"
   ]
  },
  {
   "attachments": {},
   "cell_type": "markdown",
   "metadata": {},
   "source": [
    "### 控制底盘运动当指定位置\n",
    "move(x=0, y=0, z=0, xy_speed=0.5, z_speed=30)"
   ]
  },
  {
   "cell_type": "code",
   "execution_count": 14,
   "metadata": {},
   "outputs": [],
   "source": [
    "ep_robot = robot.Robot()\n",
    "ep_robot.initialize(conn_type=\"sta\")\n",
    "\n",
    "ep_chassis = ep_robot.chassis\n",
    "\n",
    "x_val = 0.5\n",
    "y_val = 0.6\n",
    "z_val = 90\n",
    "\n",
    "# 前进 0.5米\n",
    "ep_chassis.move(x=x_val, y=0, z=0, xy_speed=0.7).wait_for_completed()\n",
    "\n",
    "# 后退 0.5米\n",
    "ep_chassis.move(x=-x_val, y=0, z=0, xy_speed=0.7).wait_for_completed()\n",
    "\n",
    "# 左移 0.6米\n",
    "ep_chassis.move(x=0, y=-y_val, z=0, xy_speed=0.7).wait_for_completed()\n",
    "\n",
    "# 右移 0.6米\n",
    "ep_chassis.move(x=0, y=y_val, z=0, xy_speed=0.7).wait_for_completed()\n",
    "\n",
    "# 左转 90度\n",
    "ep_chassis.move(x=0, y=0, z=z_val, z_speed=45).wait_for_completed()\n",
    "\n",
    "# 右转 90度\n",
    "ep_chassis.move(x=0, y=0, z=-z_val, z_speed=45).wait_for_completed()\n",
    "\n",
    "ep_robot.close()"
   ]
  },
  {
   "cell_type": "code",
   "execution_count": null,
   "metadata": {},
   "outputs": [],
   "source": []
  },
  {
   "cell_type": "code",
   "execution_count": null,
   "metadata": {},
   "outputs": [],
   "source": []
  }
 ],
 "metadata": {
  "kernelspec": {
   "display_name": "Python 3",
   "language": "python",
   "name": "python3"
  },
  "language_info": {
   "codemirror_mode": {
    "name": "ipython",
    "version": 3
   },
   "file_extension": ".py",
   "mimetype": "text/x-python",
   "name": "python",
   "nbconvert_exporter": "python",
   "pygments_lexer": "ipython3",
   "version": "3.8.3"
  }
 },
 "nbformat": 4,
 "nbformat_minor": 4
}
