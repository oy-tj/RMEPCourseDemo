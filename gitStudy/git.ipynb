{
 "cells": [
  {
   "cell_type": "markdown",
   "metadata": {},
   "source": [
    "# 1.命令行操作"
   ]
  },
  {
   "cell_type": "markdown",
   "metadata": {},
   "source": [
    "## 1.1.本地库操作"
   ]
  },
  {
   "cell_type": "markdown",
   "metadata": {},
   "source": [
    "### 1.1.1本地库初始化 git init\n",
    "    $ git init\n",
    "    已初始化空的 Git 仓库于 /home/rmep/PycharmProjects/.git/\n",
    "新建.git文件夹"
   ]
  },
  {
   "cell_type": "markdown",
   "metadata": {},
   "source": [
    "### 1.1.2设置签名\n",
    "#### 格式\n",
    "    用户名：xxx\n",
    "    Email地址：xxx@xxx.xxx\n",
    "    这个用户名密码和远程库的账号密码没关系\n",
    "#### 级别\n",
    "##### 项目/仓库级别（仅当前本地库范围有效）\n",
    "    $ git config user.name xxx\n",
    "$ git config user.email xxx@xxx.xxx.cn\n",
    "##### 系统用户级别（当前操作系统用户范围内有效）\n",
    "    $ git config --global user.name xxx\n",
    "$ git config --global user.email xxx@xxx.xxx.cn"
   ]
  },
  {
   "cell_type": "markdown",
   "metadata": {},
   "source": [
    "### 1.1.3查看状态 git status\n",
    "    $ git status\n",
    "    位于分支 master\n",
    "\n",
    "    尚无提交\n",
    "\n",
    "    未跟踪的文件:\n",
    "      （使用 \"git add <文件>...\" 以包含要提交的内容）\n",
    "\n",
    "        FSM/\n",
    "        Hello robomaster/\n",
    "\n",
    "    提交为空，但是存在尚未跟踪的文件（使用 \"git add\" 建立跟踪）"
   ]
  },
  {
   "cell_type": "markdown",
   "metadata": {},
   "source": [
    "### 1.1.4添加到暂存区待提交 git add\n",
    "    $ git add FSM/\n",
    "$ git status\n",
    "    位于分支 master\n",
    "\n",
    "    尚无提交\n",
    "\n",
    "    要提交的变更：\n",
    "      （使用 \"git rm --cached <文件>...\" 以取消暂存）\n",
    "\n",
    "        新文件：   FSM/.idea/.gitignore\n",
    "        新文件：   FSM/.idea/FSM.iml\n",
    "        新文件：   FSM/.idea/inspectionProfiles/profiles_settings.xml\n",
    "        新文件：   FSM/.idea/misc.xml\n",
    "        新文件：   FSM/.idea/modules.xml\n",
    "        新文件：   FSM/main.py\n",
    "\n",
    "    未跟踪的文件:\n",
    "      （使用 \"git add <文件>...\" 以包含要提交的内容）\n",
    "\n",
    "        Hello robomaster/\n",
    "        \n",
    "    $ git add Hello\\ robomaster/\n",
    "$ git status\n",
    "    位于分支 master\n",
    "\n",
    "    尚无提交\n",
    "\n",
    "    要提交的变更：\n",
    "      （使用 \"git rm --cached <文件>...\" 以取消暂存）\n",
    "\n",
    "        新文件：   FSM/.idea/.gitignore\n",
    "        新文件：   FSM/.idea/FSM.iml\n",
    "        新文件：   FSM/.idea/inspectionProfiles/profiles_settings.xml\n",
    "        新文件：   FSM/.idea/misc.xml\n",
    "        新文件：   FSM/.idea/modules.xml\n",
    "        新文件：   FSM/main.py\n",
    "        新文件：   Hello robomaster/.idea/.gitignore\n",
    "        新文件：   Hello robomaster/.idea/Hello robomaster.iml\n",
    "        新文件：   Hello robomaster/.idea/inspectionProfiles/profiles_settings.xml\n",
    "        新文件：   Hello robomaster/.idea/misc.xml\n",
    "        新文件：   Hello robomaster/.idea/modules.xml\n",
    "        新文件：   Hello robomaster/main.py\n",
    "\n",
    "        \n",
    "### 1.1.5从暂存区中移除文件 git rm --cached<文件>       \n"
   ]
  },
  {
   "cell_type": "markdown",
   "metadata": {},
   "source": [
    "### 1.1.6提交git commit\n",
    "    $ git commit\n",
    "    [master （根提交） a5cc2f1] commit \t01.Hello robomaster \t\tFirst test for robomaster library  \t02.FSM \t\tA finite state machine sample\n",
    "     12 files changed, 107 insertions(+)\n",
    "     create mode 100644 FSM/.idea/.gitignore\n",
    "     create mode 100644 FSM/.idea/FSM.iml\n",
    "     create mode 100644 FSM/.idea/inspectionProfiles/profiles_settings.xml\n",
    "     create mode 100644 FSM/.idea/misc.xml\n",
    "     create mode 100644 FSM/.idea/modules.xml\n",
    "     create mode 100644 FSM/main.py\n",
    "     create mode 100644 Hello robomaster/.idea/.gitignore\n",
    "     create mode 100644 Hello robomaster/.idea/Hello robomaster.iml\n",
    "     create mode 100644 Hello robomaster/.idea/inspectionProfiles/profiles_settings.xml\n",
    "     create mode 100644 Hello robomaster/.idea/misc.xml\n",
    "     create mode 100644 Hello robomaster/.idea/modules.xml\n",
    "     create mode 100644 Hello robomaster/main.py\n"
   ]
  },
  {
   "cell_type": "markdown",
   "metadata": {},
   "source": [
    "### 1.1.7显示提交记录 git log\n",
    "$ git log [--pretty=oneline][--oneline]\n",
    "\n",
    "$ git reflog\n",
    "\n",
    "    $ git log --oneline\n",
    "    a5cc2f1 (HEAD -> master) commit         01.Hello robomaster             First test for robomaster library       02.FSM          A finite state machine sample\n"
   ]
  },
  {
   "cell_type": "markdown",
   "metadata": {},
   "source": [
    "###  1.1.8修改当前版本git reset\n",
    "$ git reset --hard/mixed/soft <版本hash缩略>\n",
    "\n",
    "--hard 仓库指针、暂存区、工作区都改变到对应版本\n",
    "\n",
    "--mixed 仓库指针、暂存区改变到对应版本\n",
    "\n",
    "--soft 仓库指针改变到对应版本"
   ]
  },
  {
   "cell_type": "markdown",
   "metadata": {},
   "source": [
    "### 1.1.9检查现有版本修改git diff \\<文件名\\>\n",
    "$ git diff [文件名]\n",
    "检查文件与现有版本的区别\n",
    "\n",
    "$ git diff [本地库历史版本] [文件名] \n",
    "检查文件与历史版本的区别\n"
   ]
  },
  {
   "cell_type": "markdown",
   "metadata": {},
   "source": [
    "## 1.2本地库分支\n",
    "### 1.2.1新建分支\n",
    "$ git branch [分支名]"
   ]
  },
  {
   "cell_type": "markdown",
   "metadata": {},
   "source": [
    "### 1.2.2查看分支\n",
    "$ git branch -v"
   ]
  },
  {
   "cell_type": "markdown",
   "metadata": {},
   "source": [
    "### 1.2.3转到分支\n",
    "$ git checkout [分支名]"
   ]
  },
  {
   "cell_type": "markdown",
   "metadata": {},
   "source": [
    "### 1.2.4将其他分支合并到本分支\n",
    "$ git merge [分支名]"
   ]
  },
  {
   "cell_type": "markdown",
   "metadata": {},
   "source": [
    "## 1.3远程库操作\n",
    "\n",
    "### 1.3.1本地生成SSH-KEY\n",
    "$ ssh-keygen -t rsa -C [远程代码仓库注册邮箱]\n",
    "在用户主目录下运行该命令，生成.ssh文件夹，其中rsa.pub文件的内容需要被加入到你的远程代码仓库的SSH-Key列表中\n",
    "\n",
    "### 添加远程库地址\n",
    "$ git remote add [远程库名] [远程库地址]\n",
    "\n",
    "### 1.3.2查看远程库地址\n",
    "$ git remote -v\n",
    "\n",
    "### 1.3.3把文件推送到远程库\n",
    "$ git push [远程库名] [分支名]"
   ]
  },
  {
   "cell_type": "markdown",
   "metadata": {},
   "source": [
    "### 1.3.4从远程库克隆\n",
    "用于第一次从远程库获取整个项目，该操作在下载项目的通知会设置好本地库并设置远程库地址，远程库名为origin\n",
    "\n",
    "$ git clone [远程库地址]\n",
    "\n",
    "### 1.3.5从远程库抓取修改\n",
    "用于从远程库获取的内容到本地，抓取后的内容在[远程库名/分支]中，如有需要，可使用merge合并到本地分支中\n",
    "\n",
    "$ git fetch [远程库名] [远程分支]\n",
    "\n",
    "$ git merge [远程库名/远程分支名]\n",
    "\n",
    "### 1.3.6从远程库拉取\n",
    "直接从远程库获取内容并合并到本地\n",
    "\n",
    "$ git pull [远程库名] [远程分支]"
   ]
  },
  {
   "cell_type": "code",
   "execution_count": null,
   "metadata": {},
   "outputs": [],
   "source": []
  }
 ],
 "metadata": {
  "kernelspec": {
   "display_name": "Python 3",
   "language": "python",
   "name": "python3"
  },
  "language_info": {
   "codemirror_mode": {
    "name": "ipython",
    "version": 3
   },
   "file_extension": ".py",
   "mimetype": "text/x-python",
   "name": "python",
   "nbconvert_exporter": "python",
   "pygments_lexer": "ipython3",
   "version": "3.8.10"
  }
 },
 "nbformat": 4,
 "nbformat_minor": 4
}
